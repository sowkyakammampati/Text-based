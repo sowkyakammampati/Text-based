{
 "cells": [
  {
   "cell_type": "markdown",
   "id": "f8d2a5a0-bb32-4ec5-abef-50d4ab0ec3fb",
   "metadata": {},
   "source": [
    "## Opening the file"
   ]
  },
  {
   "cell_type": "code",
   "execution_count": 2,
   "id": "2b0a9e2f-5424-429f-afac-fae53c292b2f",
   "metadata": {},
   "outputs": [
    {
     "data": {
      "text/html": [
       "<div>\n",
       "<style scoped>\n",
       "    .dataframe tbody tr th:only-of-type {\n",
       "        vertical-align: middle;\n",
       "    }\n",
       "\n",
       "    .dataframe tbody tr th {\n",
       "        vertical-align: top;\n",
       "    }\n",
       "\n",
       "    .dataframe thead th {\n",
       "        text-align: right;\n",
       "    }\n",
       "</style>\n",
       "<table border=\"1\" class=\"dataframe\">\n",
       "  <thead>\n",
       "    <tr style=\"text-align: right;\">\n",
       "      <th></th>\n",
       "      <th>Emotion</th>\n",
       "      <th>Text</th>\n",
       "    </tr>\n",
       "  </thead>\n",
       "  <tbody>\n",
       "    <tr>\n",
       "      <th>32108</th>\n",
       "      <td>fear</td>\n",
       "      <td>Remember when Mark Wahlberg fingered Reese on ...</td>\n",
       "    </tr>\n",
       "    <tr>\n",
       "      <th>21716</th>\n",
       "      <td>disgust</td>\n",
       "      <td>A feeling of revulsion or profound disapproval...</td>\n",
       "    </tr>\n",
       "    <tr>\n",
       "      <th>5677</th>\n",
       "      <td>fear</td>\n",
       "      <td>so i saw @TasteUrDREAMS on Pitkin earlier toda...</td>\n",
       "    </tr>\n",
       "    <tr>\n",
       "      <th>10523</th>\n",
       "      <td>fear</td>\n",
       "      <td>@AlwaysME04 yeah thats prob it ... To save fac...</td>\n",
       "    </tr>\n",
       "    <tr>\n",
       "      <th>4433</th>\n",
       "      <td>anger</td>\n",
       "      <td>You can't do that ! You can't charge me for a...</td>\n",
       "    </tr>\n",
       "    <tr>\n",
       "      <th>3311</th>\n",
       "      <td>joy</td>\n",
       "      <td>this pregnant guy about to give us a test tomo...</td>\n",
       "    </tr>\n",
       "    <tr>\n",
       "      <th>8776</th>\n",
       "      <td>surprise</td>\n",
       "      <td>@Shutrbecca Poinsettia plants being put out ri...</td>\n",
       "    </tr>\n",
       "    <tr>\n",
       "      <th>27643</th>\n",
       "      <td>joy</td>\n",
       "      <td>When I received the acceptance form for the se...</td>\n",
       "    </tr>\n",
       "    <tr>\n",
       "      <th>14550</th>\n",
       "      <td>fear</td>\n",
       "      <td>“@RevRunWisdom not afraid of tomorrow, for I h...</td>\n",
       "    </tr>\n",
       "    <tr>\n",
       "      <th>18084</th>\n",
       "      <td>anger</td>\n",
       "      <td>Following an argument with my brother, he brok...</td>\n",
       "    </tr>\n",
       "  </tbody>\n",
       "</table>\n",
       "</div>"
      ],
      "text/plain": [
       "        Emotion                                               Text\n",
       "32108      fear  Remember when Mark Wahlberg fingered Reese on ...\n",
       "21716   disgust  A feeling of revulsion or profound disapproval...\n",
       "5677       fear  so i saw @TasteUrDREAMS on Pitkin earlier toda...\n",
       "10523      fear  @AlwaysME04 yeah thats prob it ... To save fac...\n",
       "4433      anger   You can't do that ! You can't charge me for a...\n",
       "3311        joy  this pregnant guy about to give us a test tomo...\n",
       "8776   surprise  @Shutrbecca Poinsettia plants being put out ri...\n",
       "27643       joy  When I received the acceptance form for the se...\n",
       "14550      fear  “@RevRunWisdom not afraid of tomorrow, for I h...\n",
       "18084     anger  Following an argument with my brother, he brok..."
      ]
     },
     "execution_count": 2,
     "metadata": {},
     "output_type": "execute_result"
    }
   ],
   "source": [
    "import pandas as pd \n",
    "data = \"C:\\\\Users\\\\sowky\\\\Downloads\\\\emotion_dataset_raw.csv\"\n",
    "# reading the fie and print\n",
    "df = pd.read_csv(data)\n",
    "df.sample(10)"
   ]
  },
  {
   "cell_type": "markdown",
   "id": "9c7d4d98-978a-4de7-9d6c-103db1e39f8e",
   "metadata": {},
   "source": [
    "## Getting the Bing Liu Lexicon"
   ]
  },
  {
   "cell_type": "code",
   "execution_count": 3,
   "id": "1d4af76d-b9ea-4940-b29e-91ca7291466a",
   "metadata": {},
   "outputs": [
    {
     "name": "stderr",
     "output_type": "stream",
     "text": [
      "[nltk_data] Downloading package opinion_lexicon to\n",
      "[nltk_data]     C:\\Users\\sowky\\AppData\\Roaming\\nltk_data...\n",
      "[nltk_data]   Package opinion_lexicon is already up-to-date!\n"
     ]
    }
   ],
   "source": [
    "from sklearn import preprocessing\n",
    "import nltk\n",
    "nltk.download('opinion_lexicon')\n",
    "from nltk.corpus import opinion_lexicon\n",
    "from nltk.tokenize import word_tokenize"
   ]
  },
  {
   "cell_type": "code",
   "execution_count": 4,
   "id": "074c0493-4e51-41be-a9bc-8b5bc9e312e7",
   "metadata": {},
   "outputs": [
    {
     "name": "stdout",
     "output_type": "stream",
     "text": [
      "Total number of words in opinion lexicon 6789\n",
      "Examples of positive words in opinion lexicon ['a+', 'abound', 'abounds', 'abundance', 'abundant', 'accessable', 'accessible', 'acclaim', 'acclaimed', 'acclamation']\n",
      "Examples of negative words in opinion lexicon ['2-faced', '2-faces', 'abnormal', 'abolish', 'abominable', 'abominably', 'abominate', 'abomination', 'abort', 'aborted']\n"
     ]
    }
   ],
   "source": [
    "print('Total number of words in opinion lexicon', len(opinion_lexicon.words()))\n",
    "print('Examples of positive words in opinion lexicon',\n",
    "opinion_lexicon.positive()[:10])\n",
    "print('Examples of negative words in opinion lexicon',\n",
    "opinion_lexicon.negative()[:10])"
   ]
  },
  {
   "cell_type": "code",
   "execution_count": 5,
   "id": "6c8b03ee-e505-4387-b190-ef77acf6b2e8",
   "metadata": {},
   "outputs": [
    {
     "name": "stderr",
     "output_type": "stream",
     "text": [
      "[nltk_data] Downloading package punkt to\n",
      "[nltk_data]     C:\\Users\\sowky\\AppData\\Roaming\\nltk_data...\n",
      "[nltk_data]   Package punkt is already up-to-date!\n"
     ]
    }
   ],
   "source": [
    "# Let's create a dictionary which we can use for scoring our review text\n",
    "nltk.download('punkt')\n",
    "df.rename(columns={\"reviewText\": \"text\"}, inplace=True)\n",
    "pos_score = 1\n",
    "neg_score = -1\n",
    "word_dict = {}"
   ]
  },
  {
   "cell_type": "code",
   "execution_count": 10,
   "id": "4d4a91e1-c397-4e7a-82db-e5fb5b73a117",
   "metadata": {},
   "outputs": [],
   "source": [
    "# Adding the positive words to the dictionary\n",
    "for word in opinion_lexicon.positive():\n",
    " word_dict[word] = pos_score\n",
    "# Adding the negative words to the dictionary\n",
    "for word in opinion_lexicon.negative():\n",
    " word_dict[word] = neg_score"
   ]
  },
  {
   "cell_type": "markdown",
   "id": "f3ba6325-a9f0-498a-bf02-98cd7d0e5171",
   "metadata": {},
   "source": [
    "## Function to do math"
   ]
  },
  {
   "cell_type": "code",
   "execution_count": 11,
   "id": "3b4113d9-3a38-4193-8e27-80dd8fc3f3c9",
   "metadata": {},
   "outputs": [],
   "source": [
    "def bing_liu_score(Text):\n",
    "    sentiment_score = 0\n",
    "    bag_of_words = word_tokenize(Text.lower())\n",
    "    for word in bag_of_words:\n",
    "        if word in word_dict:\n",
    "            sentiment_score += word_dict[word]\n",
    "    return sentiment_score"
   ]
  },
  {
   "cell_type": "markdown",
   "id": "b758b168-4eed-4205-ac4c-60fa2104d0d4",
   "metadata": {},
   "source": [
    "## Making sure all texts are non empty and are type text then call the function\n"
   ]
  },
  {
   "cell_type": "code",
   "execution_count": 12,
   "id": "d429c369-6503-4d3a-b350-74ed97091881",
   "metadata": {},
   "outputs": [],
   "source": [
    "df['Text'].fillna('no review', inplace=True)\n",
    "df['Bing_Liu_Score'] = df['Text'].apply(bing_liu_score)"
   ]
  },
  {
   "cell_type": "code",
   "execution_count": 14,
   "id": "c86543a5-a01d-482a-a50a-7931192ad376",
   "metadata": {},
   "outputs": [
    {
     "data": {
      "text/html": [
       "<div>\n",
       "<style scoped>\n",
       "    .dataframe tbody tr th:only-of-type {\n",
       "        vertical-align: middle;\n",
       "    }\n",
       "\n",
       "    .dataframe tbody tr th {\n",
       "        vertical-align: top;\n",
       "    }\n",
       "\n",
       "    .dataframe thead th {\n",
       "        text-align: right;\n",
       "    }\n",
       "</style>\n",
       "<table border=\"1\" class=\"dataframe\">\n",
       "  <thead>\n",
       "    <tr style=\"text-align: right;\">\n",
       "      <th></th>\n",
       "      <th>Emotion</th>\n",
       "      <th>Text</th>\n",
       "      <th>Bing_Liu_Score</th>\n",
       "    </tr>\n",
       "  </thead>\n",
       "  <tbody>\n",
       "    <tr>\n",
       "      <th>0</th>\n",
       "      <td>neutral</td>\n",
       "      <td>Why ?</td>\n",
       "      <td>0</td>\n",
       "    </tr>\n",
       "    <tr>\n",
       "      <th>1</th>\n",
       "      <td>joy</td>\n",
       "      <td>Sage Act upgrade on my to do list for tommorow.</td>\n",
       "      <td>0</td>\n",
       "    </tr>\n",
       "    <tr>\n",
       "      <th>2</th>\n",
       "      <td>sadness</td>\n",
       "      <td>ON THE WAY TO MY HOMEGIRL BABY FUNERAL!!! MAN ...</td>\n",
       "      <td>-1</td>\n",
       "    </tr>\n",
       "    <tr>\n",
       "      <th>3</th>\n",
       "      <td>joy</td>\n",
       "      <td>Such an eye ! The true hazel eye-and so brill...</td>\n",
       "      <td>5</td>\n",
       "    </tr>\n",
       "    <tr>\n",
       "      <th>4</th>\n",
       "      <td>joy</td>\n",
       "      <td>@Iluvmiasantos ugh babe.. hugggzzz for u .!  b...</td>\n",
       "      <td>-1</td>\n",
       "    </tr>\n",
       "    <tr>\n",
       "      <th>5</th>\n",
       "      <td>fear</td>\n",
       "      <td>I'm expecting an extremely important phonecall...</td>\n",
       "      <td>0</td>\n",
       "    </tr>\n",
       "    <tr>\n",
       "      <th>6</th>\n",
       "      <td>sadness</td>\n",
       "      <td>.Couldnt wait to see them live. If missing th...</td>\n",
       "      <td>-1</td>\n",
       "    </tr>\n",
       "    <tr>\n",
       "      <th>7</th>\n",
       "      <td>surprise</td>\n",
       "      <td>maken Tip 2: Stop op een moment dat je het hel...</td>\n",
       "      <td>0</td>\n",
       "    </tr>\n",
       "    <tr>\n",
       "      <th>8</th>\n",
       "      <td>surprise</td>\n",
       "      <td>En dan krijg je ff een cadeautje van een tweep...</td>\n",
       "      <td>0</td>\n",
       "    </tr>\n",
       "    <tr>\n",
       "      <th>9</th>\n",
       "      <td>surprise</td>\n",
       "      <td>@1116am Drummer Boy bij op verzoek van @BiemO...</td>\n",
       "      <td>0</td>\n",
       "    </tr>\n",
       "  </tbody>\n",
       "</table>\n",
       "</div>"
      ],
      "text/plain": [
       "    Emotion                                               Text  Bing_Liu_Score\n",
       "0   neutral                                             Why ?                0\n",
       "1       joy    Sage Act upgrade on my to do list for tommorow.               0\n",
       "2   sadness  ON THE WAY TO MY HOMEGIRL BABY FUNERAL!!! MAN ...              -1\n",
       "3       joy   Such an eye ! The true hazel eye-and so brill...               5\n",
       "4       joy  @Iluvmiasantos ugh babe.. hugggzzz for u .!  b...              -1\n",
       "5      fear  I'm expecting an extremely important phonecall...               0\n",
       "6   sadness   .Couldnt wait to see them live. If missing th...              -1\n",
       "7  surprise  maken Tip 2: Stop op een moment dat je het hel...               0\n",
       "8  surprise  En dan krijg je ff een cadeautje van een tweep...               0\n",
       "9  surprise   @1116am Drummer Boy bij op verzoek van @BiemO...               0"
      ]
     },
     "execution_count": 14,
     "metadata": {},
     "output_type": "execute_result"
    }
   ],
   "source": [
    "df[['Emotion',\"Text\", 'Bing_Liu_Score']].head(10)"
   ]
  },
  {
   "cell_type": "code",
   "execution_count": 16,
   "id": "a5294d11-bfc8-4e0c-9d61-b96ce8692427",
   "metadata": {},
   "outputs": [
    {
     "data": {
      "text/html": [
       "<div>\n",
       "<style scoped>\n",
       "    .dataframe tbody tr th:only-of-type {\n",
       "        vertical-align: middle;\n",
       "    }\n",
       "\n",
       "    .dataframe tbody tr th {\n",
       "        vertical-align: top;\n",
       "    }\n",
       "\n",
       "    .dataframe thead th {\n",
       "        text-align: right;\n",
       "    }\n",
       "</style>\n",
       "<table border=\"1\" class=\"dataframe\">\n",
       "  <thead>\n",
       "    <tr style=\"text-align: right;\">\n",
       "      <th></th>\n",
       "      <th>Bing_Liu_Score</th>\n",
       "    </tr>\n",
       "    <tr>\n",
       "      <th>Emotion</th>\n",
       "      <th></th>\n",
       "    </tr>\n",
       "  </thead>\n",
       "  <tbody>\n",
       "    <tr>\n",
       "      <th>anger</th>\n",
       "      <td>-0.715150</td>\n",
       "    </tr>\n",
       "    <tr>\n",
       "      <th>disgust</th>\n",
       "      <td>-0.558411</td>\n",
       "    </tr>\n",
       "    <tr>\n",
       "      <th>fear</th>\n",
       "      <td>-0.562292</td>\n",
       "    </tr>\n",
       "    <tr>\n",
       "      <th>joy</th>\n",
       "      <td>0.510819</td>\n",
       "    </tr>\n",
       "    <tr>\n",
       "      <th>neutral</th>\n",
       "      <td>0.114020</td>\n",
       "    </tr>\n",
       "    <tr>\n",
       "      <th>sadness</th>\n",
       "      <td>-0.488843</td>\n",
       "    </tr>\n",
       "    <tr>\n",
       "      <th>shame</th>\n",
       "      <td>-0.767123</td>\n",
       "    </tr>\n",
       "    <tr>\n",
       "      <th>surprise</th>\n",
       "      <td>0.174298</td>\n",
       "    </tr>\n",
       "  </tbody>\n",
       "</table>\n",
       "</div>"
      ],
      "text/plain": [
       "          Bing_Liu_Score\n",
       "Emotion                 \n",
       "anger          -0.715150\n",
       "disgust        -0.558411\n",
       "fear           -0.562292\n",
       "joy             0.510819\n",
       "neutral         0.114020\n",
       "sadness        -0.488843\n",
       "shame          -0.767123\n",
       "surprise        0.174298"
      ]
     },
     "execution_count": 16,
     "metadata": {},
     "output_type": "execute_result"
    }
   ],
   "source": [
    "df.groupby('Emotion').agg({'Bing_Liu_Score':'mean'})"
   ]
  },
  {
   "cell_type": "code",
   "execution_count": null,
   "id": "f15af343-2d4e-4853-81f5-6cc9b1ccd9e4",
   "metadata": {},
   "outputs": [],
   "source": []
  }
 ],
 "metadata": {
  "kernelspec": {
   "display_name": "Python 3 (ipykernel)",
   "language": "python",
   "name": "python3"
  },
  "language_info": {
   "codemirror_mode": {
    "name": "ipython",
    "version": 3
   },
   "file_extension": ".py",
   "mimetype": "text/x-python",
   "name": "python",
   "nbconvert_exporter": "python",
   "pygments_lexer": "ipython3",
   "version": "3.11.7"
  }
 },
 "nbformat": 4,
 "nbformat_minor": 5
}
