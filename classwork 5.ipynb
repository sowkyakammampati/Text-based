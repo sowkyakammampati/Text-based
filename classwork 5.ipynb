{
 "cells": [
  {
   "cell_type": "markdown",
   "id": "484a85f4-7d0d-4a8b-95dd-def70e9801f8",
   "metadata": {},
   "source": [
    "## Opening the file"
   ]
  },
  {
   "cell_type": "code",
   "execution_count": 19,
   "id": "491d9f18-980f-45bd-8fc0-7fa51411140f",
   "metadata": {},
   "outputs": [
    {
     "data": {
      "text/html": [
       "<div>\n",
       "<style scoped>\n",
       "    .dataframe tbody tr th:only-of-type {\n",
       "        vertical-align: middle;\n",
       "    }\n",
       "\n",
       "    .dataframe tbody tr th {\n",
       "        vertical-align: top;\n",
       "    }\n",
       "\n",
       "    .dataframe thead th {\n",
       "        text-align: right;\n",
       "    }\n",
       "</style>\n",
       "<table border=\"1\" class=\"dataframe\">\n",
       "  <thead>\n",
       "    <tr style=\"text-align: right;\">\n",
       "      <th></th>\n",
       "      <th>overall</th>\n",
       "      <th>verified</th>\n",
       "      <th>reviewerID</th>\n",
       "      <th>asin</th>\n",
       "      <th>reviewText</th>\n",
       "      <th>summary</th>\n",
       "    </tr>\n",
       "  </thead>\n",
       "  <tbody>\n",
       "    <tr>\n",
       "      <th>23342</th>\n",
       "      <td>5</td>\n",
       "      <td>True</td>\n",
       "      <td>A2NPZOEKUVCHYT</td>\n",
       "      <td>B000HF6YX0</td>\n",
       "      <td>terrific value on basic set.  A staple for eve...</td>\n",
       "      <td>Five Stars</td>\n",
       "    </tr>\n",
       "    <tr>\n",
       "      <th>371543</th>\n",
       "      <td>5</td>\n",
       "      <td>True</td>\n",
       "      <td>A1C4GDSSMSKE8W</td>\n",
       "      <td>B00V5TIWD2</td>\n",
       "      <td>these paints do exactly what dyan said they wo...</td>\n",
       "      <td>Awesome</td>\n",
       "    </tr>\n",
       "    <tr>\n",
       "      <th>358468</th>\n",
       "      <td>5</td>\n",
       "      <td>True</td>\n",
       "      <td>A1LK1JUTPI2X7L</td>\n",
       "      <td>B00PM473TK</td>\n",
       "      <td>I like the bright colors.  Fun to use and eras...</td>\n",
       "      <td>Bright colors.</td>\n",
       "    </tr>\n",
       "    <tr>\n",
       "      <th>240375</th>\n",
       "      <td>5</td>\n",
       "      <td>True</td>\n",
       "      <td>A3513M2E6P93SD</td>\n",
       "      <td>B005UEEU7K</td>\n",
       "      <td>This year, for Christmas, I purchased gifts fo...</td>\n",
       "      <td>Christmas Gift</td>\n",
       "    </tr>\n",
       "    <tr>\n",
       "      <th>388233</th>\n",
       "      <td>5</td>\n",
       "      <td>True</td>\n",
       "      <td>AXMX5RASTEHR</td>\n",
       "      <td>B0154HN2NA</td>\n",
       "      <td>Order was delivered on time and in great condi...</td>\n",
       "      <td>Five Stars</td>\n",
       "    </tr>\n",
       "    <tr>\n",
       "      <th>219401</th>\n",
       "      <td>5</td>\n",
       "      <td>True</td>\n",
       "      <td>A28T2NQR4MDEMQ</td>\n",
       "      <td>B004WMWCYE</td>\n",
       "      <td>I cannot live without this pen case in my tote...</td>\n",
       "      <td>An essential tool for keeping planning and jou...</td>\n",
       "    </tr>\n",
       "    <tr>\n",
       "      <th>351924</th>\n",
       "      <td>5</td>\n",
       "      <td>True</td>\n",
       "      <td>A2RGEQ4EOILD9Q</td>\n",
       "      <td>B00NMCU9ZO</td>\n",
       "      <td>Work just great for making stencils.</td>\n",
       "      <td>Five Stars</td>\n",
       "    </tr>\n",
       "    <tr>\n",
       "      <th>250933</th>\n",
       "      <td>5</td>\n",
       "      <td>True</td>\n",
       "      <td>A36JIF7IV4K6UE</td>\n",
       "      <td>B00756OEVI</td>\n",
       "      <td>I love these I have one for glue, one for whit...</td>\n",
       "      <td>I love these I have one for glue</td>\n",
       "    </tr>\n",
       "    <tr>\n",
       "      <th>39835</th>\n",
       "      <td>5</td>\n",
       "      <td>True</td>\n",
       "      <td>A1WWUZI8DWA8IP</td>\n",
       "      <td>B000V1VDI6</td>\n",
       "      <td>love it</td>\n",
       "      <td>love the way it rolls on and can get refills</td>\n",
       "    </tr>\n",
       "    <tr>\n",
       "      <th>421411</th>\n",
       "      <td>5</td>\n",
       "      <td>True</td>\n",
       "      <td>A2MOHSBEA3K9RF</td>\n",
       "      <td>B000QHIGP8</td>\n",
       "      <td>Just as described!!</td>\n",
       "      <td>Five Stars</td>\n",
       "    </tr>\n",
       "  </tbody>\n",
       "</table>\n",
       "</div>"
      ],
      "text/plain": [
       "        overall  verified      reviewerID        asin  \\\n",
       "23342         5      True  A2NPZOEKUVCHYT  B000HF6YX0   \n",
       "371543        5      True  A1C4GDSSMSKE8W  B00V5TIWD2   \n",
       "358468        5      True  A1LK1JUTPI2X7L  B00PM473TK   \n",
       "240375        5      True  A3513M2E6P93SD  B005UEEU7K   \n",
       "388233        5      True    AXMX5RASTEHR  B0154HN2NA   \n",
       "219401        5      True  A28T2NQR4MDEMQ  B004WMWCYE   \n",
       "351924        5      True  A2RGEQ4EOILD9Q  B00NMCU9ZO   \n",
       "250933        5      True  A36JIF7IV4K6UE  B00756OEVI   \n",
       "39835         5      True  A1WWUZI8DWA8IP  B000V1VDI6   \n",
       "421411        5      True  A2MOHSBEA3K9RF  B000QHIGP8   \n",
       "\n",
       "                                               reviewText  \\\n",
       "23342   terrific value on basic set.  A staple for eve...   \n",
       "371543  these paints do exactly what dyan said they wo...   \n",
       "358468  I like the bright colors.  Fun to use and eras...   \n",
       "240375  This year, for Christmas, I purchased gifts fo...   \n",
       "388233  Order was delivered on time and in great condi...   \n",
       "219401  I cannot live without this pen case in my tote...   \n",
       "351924               Work just great for making stencils.   \n",
       "250933  I love these I have one for glue, one for whit...   \n",
       "39835                                             love it   \n",
       "421411                                Just as described!!   \n",
       "\n",
       "                                                  summary  \n",
       "23342                                          Five Stars  \n",
       "371543                                            Awesome  \n",
       "358468                                     Bright colors.  \n",
       "240375                                     Christmas Gift  \n",
       "388233                                         Five Stars  \n",
       "219401  An essential tool for keeping planning and jou...  \n",
       "351924                                         Five Stars  \n",
       "250933                   I love these I have one for glue  \n",
       "39835        love the way it rolls on and can get refills  \n",
       "421411                                         Five Stars  "
      ]
     },
     "execution_count": 19,
     "metadata": {},
     "output_type": "execute_result"
    }
   ],
   "source": [
    "import pandas as pd \n",
    "data = \"C:\\\\Users\\sowky\\\\Downloads\\\\Arts_Crafts_and_sewing_5.csv\"\n",
    "# reading the fie and print\n",
    "df = pd.read_csv(data)\n",
    "df.sample(10)"
   ]
  },
  {
   "cell_type": "markdown",
   "id": "f06d18eb-db41-4ffd-9ba0-2e2bf4687bb5",
   "metadata": {},
   "source": [
    "## Getting the Bing Liu Lexicon"
   ]
  },
  {
   "cell_type": "code",
   "execution_count": 7,
   "id": "02ab94ca-324a-4a97-b5b2-1e9602c3b188",
   "metadata": {},
   "outputs": [
    {
     "name": "stderr",
     "output_type": "stream",
     "text": [
      "[nltk_data] Downloading package opinion_lexicon to\n",
      "[nltk_data]     C:\\Users\\sowky\\AppData\\Roaming\\nltk_data...\n",
      "[nltk_data]   Unzipping corpora\\opinion_lexicon.zip.\n"
     ]
    }
   ],
   "source": [
    "from sklearn import preprocessing\n",
    "import nltk\n",
    "nltk.download('opinion_lexicon')\n",
    "from nltk.corpus import opinion_lexicon\n",
    "from nltk.tokenize import word_tokenize"
   ]
  },
  {
   "cell_type": "code",
   "execution_count": 8,
   "id": "cbf9f3ba-4fea-4f81-82f1-7f8d9ad4f276",
   "metadata": {},
   "outputs": [
    {
     "name": "stdout",
     "output_type": "stream",
     "text": [
      "Total number of words in opinion lexicon 6789\n",
      "Examples of positive words in opinion lexicon ['a+', 'abound', 'abounds', 'abundance', 'abundant', 'accessable', 'accessible', 'acclaim', 'acclaimed', 'acclamation']\n",
      "Examples of negative words in opinion lexicon ['2-faced', '2-faces', 'abnormal', 'abolish', 'abominable', 'abominably', 'abominate', 'abomination', 'abort', 'aborted']\n"
     ]
    }
   ],
   "source": [
    "print('Total number of words in opinion lexicon', len(opinion_lexicon.words()))\n",
    "print('Examples of positive words in opinion lexicon',\n",
    "opinion_lexicon.positive()[:10])\n",
    "print('Examples of negative words in opinion lexicon',\n",
    "opinion_lexicon.negative()[:10])"
   ]
  },
  {
   "cell_type": "code",
   "execution_count": 9,
   "id": "bac6dda3-43e3-4f4d-a089-f92e39433434",
   "metadata": {},
   "outputs": [
    {
     "name": "stderr",
     "output_type": "stream",
     "text": [
      "[nltk_data] Downloading package punkt to\n",
      "[nltk_data]     C:\\Users\\sowky\\AppData\\Roaming\\nltk_data...\n",
      "[nltk_data]   Unzipping tokenizers\\punkt.zip.\n"
     ]
    }
   ],
   "source": [
    "# Let's create a dictionary which we can use for scoring our review text\n",
    "nltk.download('punkt')\n",
    "df.rename(columns={\"reviewText\": \"text\"}, inplace=True)\n",
    "pos_score = 1\n",
    "neg_score = -1\n",
    "word_dict = {}\n"
   ]
  },
  {
   "cell_type": "code",
   "execution_count": 11,
   "id": "f04d8765-e037-4b79-a19a-a84f4d20f5fc",
   "metadata": {},
   "outputs": [],
   "source": [
    "# Adding the positive words to the dictionary\n",
    "for word in opinion_lexicon.positive():\n",
    " word_dict[word] = pos_score\n",
    "# Adding the negative words to the dictionary\n",
    "for word in opinion_lexicon.negative():\n",
    " word_dict[word] = neg_score"
   ]
  },
  {
   "cell_type": "markdown",
   "id": "90343299-8f4e-49e5-b4bc-9c8199eabe4e",
   "metadata": {},
   "source": [
    "## Function to do math"
   ]
  },
  {
   "cell_type": "code",
   "execution_count": 14,
   "id": "2246a30d-f831-4152-9b7d-55c4bbaa40ef",
   "metadata": {},
   "outputs": [],
   "source": [
    "def bing_liu_score(text):\n",
    "    sentiment_score = 0\n",
    "    bag_of_words = word_tokenize(text.lower())\n",
    "    for word in bag_of_words:\n",
    "        if word in word_dict:\n",
    "            sentiment_score += word_dict[word]\n",
    "    return sentiment_score"
   ]
  },
  {
   "cell_type": "markdown",
   "id": "ce05b1c1-6493-40f2-ba94-e4ff8a0f3946",
   "metadata": {},
   "source": [
    "## Making sure all texts are non empty and are type text then call the function"
   ]
  },
  {
   "cell_type": "code",
   "execution_count": 15,
   "id": "ce9067a2-2508-430e-8495-1f58b5e835e8",
   "metadata": {},
   "outputs": [],
   "source": [
    "df['text'].fillna('no review', inplace=True)\n",
    "df['Bing_Liu_Score'] = df['text'].apply(bing_liu_score)\n"
   ]
  },
  {
   "cell_type": "code",
   "execution_count": 16,
   "id": "fdcdb28f-b520-4730-ac80-f318e7287a1a",
   "metadata": {},
   "outputs": [
    {
     "data": {
      "text/html": [
       "<div>\n",
       "<style scoped>\n",
       "    .dataframe tbody tr th:only-of-type {\n",
       "        vertical-align: middle;\n",
       "    }\n",
       "\n",
       "    .dataframe tbody tr th {\n",
       "        vertical-align: top;\n",
       "    }\n",
       "\n",
       "    .dataframe thead th {\n",
       "        text-align: right;\n",
       "    }\n",
       "</style>\n",
       "<table border=\"1\" class=\"dataframe\">\n",
       "  <thead>\n",
       "    <tr style=\"text-align: right;\">\n",
       "      <th></th>\n",
       "      <th>overall</th>\n",
       "      <th>text</th>\n",
       "      <th>Bing_Liu_Score</th>\n",
       "    </tr>\n",
       "  </thead>\n",
       "  <tbody>\n",
       "    <tr>\n",
       "      <th>0</th>\n",
       "      <td>4</td>\n",
       "      <td>Contains some interesting stitches.</td>\n",
       "      <td>1</td>\n",
       "    </tr>\n",
       "    <tr>\n",
       "      <th>1</th>\n",
       "      <td>5</td>\n",
       "      <td>I'm a fairly experienced knitter of the one-co...</td>\n",
       "      <td>22</td>\n",
       "    </tr>\n",
       "    <tr>\n",
       "      <th>2</th>\n",
       "      <td>4</td>\n",
       "      <td>Great book but the index is terrible. Had to w...</td>\n",
       "      <td>0</td>\n",
       "    </tr>\n",
       "    <tr>\n",
       "      <th>3</th>\n",
       "      <td>5</td>\n",
       "      <td>I purchased the Kindle edition which is incred...</td>\n",
       "      <td>4</td>\n",
       "    </tr>\n",
       "    <tr>\n",
       "      <th>4</th>\n",
       "      <td>5</td>\n",
       "      <td>Very well laid out and very easy to read.\\n\\nT...</td>\n",
       "      <td>5</td>\n",
       "    </tr>\n",
       "    <tr>\n",
       "      <th>5</th>\n",
       "      <td>5</td>\n",
       "      <td>Beginning her career as a freelance knitter, M...</td>\n",
       "      <td>15</td>\n",
       "    </tr>\n",
       "    <tr>\n",
       "      <th>6</th>\n",
       "      <td>5</td>\n",
       "      <td>This is a terrific stitch handbook (and I have...</td>\n",
       "      <td>9</td>\n",
       "    </tr>\n",
       "    <tr>\n",
       "      <th>7</th>\n",
       "      <td>4</td>\n",
       "      <td>The book needs to be coil bound. The content i...</td>\n",
       "      <td>1</td>\n",
       "    </tr>\n",
       "    <tr>\n",
       "      <th>8</th>\n",
       "      <td>5</td>\n",
       "      <td>I really am enjoying this book! I like the siz...</td>\n",
       "      <td>12</td>\n",
       "    </tr>\n",
       "    <tr>\n",
       "      <th>9</th>\n",
       "      <td>5</td>\n",
       "      <td>Just received this book and looked over it cov...</td>\n",
       "      <td>6</td>\n",
       "    </tr>\n",
       "  </tbody>\n",
       "</table>\n",
       "</div>"
      ],
      "text/plain": [
       "   overall                                               text  Bing_Liu_Score\n",
       "0        4                Contains some interesting stitches.               1\n",
       "1        5  I'm a fairly experienced knitter of the one-co...              22\n",
       "2        4  Great book but the index is terrible. Had to w...               0\n",
       "3        5  I purchased the Kindle edition which is incred...               4\n",
       "4        5  Very well laid out and very easy to read.\\n\\nT...               5\n",
       "5        5  Beginning her career as a freelance knitter, M...              15\n",
       "6        5  This is a terrific stitch handbook (and I have...               9\n",
       "7        4  The book needs to be coil bound. The content i...               1\n",
       "8        5  I really am enjoying this book! I like the siz...              12\n",
       "9        5  Just received this book and looked over it cov...               6"
      ]
     },
     "execution_count": 16,
     "metadata": {},
     "output_type": "execute_result"
    }
   ],
   "source": [
    "df[['overall',\"text\", 'Bing_Liu_Score']].head(10)"
   ]
  },
  {
   "cell_type": "code",
   "execution_count": 17,
   "id": "8c74fd05-f793-41b4-b0ff-ec26c1482248",
   "metadata": {},
   "outputs": [
    {
     "data": {
      "text/html": [
       "<div>\n",
       "<style scoped>\n",
       "    .dataframe tbody tr th:only-of-type {\n",
       "        vertical-align: middle;\n",
       "    }\n",
       "\n",
       "    .dataframe tbody tr th {\n",
       "        vertical-align: top;\n",
       "    }\n",
       "\n",
       "    .dataframe thead th {\n",
       "        text-align: right;\n",
       "    }\n",
       "</style>\n",
       "<table border=\"1\" class=\"dataframe\">\n",
       "  <thead>\n",
       "    <tr style=\"text-align: right;\">\n",
       "      <th></th>\n",
       "      <th>Bing_Liu_Score</th>\n",
       "    </tr>\n",
       "    <tr>\n",
       "      <th>overall</th>\n",
       "      <th></th>\n",
       "    </tr>\n",
       "  </thead>\n",
       "  <tbody>\n",
       "    <tr>\n",
       "      <th>1</th>\n",
       "      <td>-0.255049</td>\n",
       "    </tr>\n",
       "    <tr>\n",
       "      <th>2</th>\n",
       "      <td>0.566098</td>\n",
       "    </tr>\n",
       "    <tr>\n",
       "      <th>3</th>\n",
       "      <td>1.158796</td>\n",
       "    </tr>\n",
       "    <tr>\n",
       "      <th>4</th>\n",
       "      <td>2.027999</td>\n",
       "    </tr>\n",
       "    <tr>\n",
       "      <th>5</th>\n",
       "      <td>2.129986</td>\n",
       "    </tr>\n",
       "  </tbody>\n",
       "</table>\n",
       "</div>"
      ],
      "text/plain": [
       "         Bing_Liu_Score\n",
       "overall                \n",
       "1             -0.255049\n",
       "2              0.566098\n",
       "3              1.158796\n",
       "4              2.027999\n",
       "5              2.129986"
      ]
     },
     "execution_count": 17,
     "metadata": {},
     "output_type": "execute_result"
    }
   ],
   "source": [
    "df.groupby('overall').agg({'Bing_Liu_Score':'mean'})"
   ]
  },
  {
   "cell_type": "code",
   "execution_count": null,
   "id": "fd7ec1cd-5c61-4b98-9a6e-53b90250b2f0",
   "metadata": {},
   "outputs": [],
   "source": []
  }
 ],
 "metadata": {
  "kernelspec": {
   "display_name": "Python 3 (ipykernel)",
   "language": "python",
   "name": "python3"
  },
  "language_info": {
   "codemirror_mode": {
    "name": "ipython",
    "version": 3
   },
   "file_extension": ".py",
   "mimetype": "text/x-python",
   "name": "python",
   "nbconvert_exporter": "python",
   "pygments_lexer": "ipython3",
   "version": "3.11.7"
  }
 },
 "nbformat": 4,
 "nbformat_minor": 5
}
