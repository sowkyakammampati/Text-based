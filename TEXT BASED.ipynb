{
 "cells": [
  {
   "cell_type": "markdown",
   "id": "30fa6bb0",
   "metadata": {},
   "source": [
    "## Basic string Operations\n"
   ]
  },
  {
   "cell_type": "code",
   "execution_count": 1,
   "id": "c63c49b4",
   "metadata": {},
   "outputs": [
    {
     "data": {
      "text/plain": [
       "'Welcome'"
      ]
     },
     "execution_count": 1,
     "metadata": {},
     "output_type": "execute_result"
    }
   ],
   "source": [
    "#Assigning string to a variable 'a'\n",
    "a = \"Welcome\"\n",
    "#print the string\n",
    "a"
   ]
  },
  {
   "cell_type": "code",
   "execution_count": 3,
   "id": "cfe0abc3",
   "metadata": {},
   "outputs": [
    {
     "name": "stdout",
     "output_type": "stream",
     "text": [
      "H\n",
      "?\n"
     ]
    }
   ],
   "source": [
    "## String indexing\n",
    " \n",
    "#Assigning string\n",
    "b = \"Hello how are you?\"\n",
    "\n",
    "#printing index of 0\n",
    "print(b[0])\n",
    "\n",
    "#printing index of -1\n",
    "print(b[-1])"
   ]
  },
  {
   "cell_type": "code",
   "execution_count": 9,
   "id": "559d266d",
   "metadata": {},
   "outputs": [
    {
     "name": "stdout",
     "output_type": "stream",
     "text": [
      "Hello how are\n",
      "Hello how are you?\n"
     ]
    }
   ],
   "source": [
    "#String slicing\n",
    "\n",
    "print(b[0:13]) \n",
    "\n",
    "print(b[0:])\n",
    "#when start or end not mentioned by default it take start and end of the string"
   ]
  },
  {
   "cell_type": "code",
   "execution_count": 22,
   "id": "9112ce91",
   "metadata": {},
   "outputs": [
    {
     "name": "stdout",
     "output_type": "stream",
     "text": [
      "False\n",
      "False\n",
      "True\n"
     ]
    }
   ],
   "source": [
    "#Checking if the string contains only whitespace characters\n",
    "# Prints True if it contains whitespace or false if not  \n",
    "print(b.isspace())\n",
    "\n",
    "# Checking if the string contains only numeric digits\n",
    "#Prints true if it contains only numeric or false\n",
    "print(b.isdigit())\n",
    "      \n",
    "#Assigning new string\n",
    "\n",
    "c = \"7731945745\"\n",
    "#Prints true if it contains only aplabetic letters or digits\n",
    "print(c.isalnum())"
   ]
  },
  {
   "cell_type": "code",
   "execution_count": 23,
   "id": "b35bfc3d",
   "metadata": {},
   "outputs": [
    {
     "name": "stdout",
     "output_type": "stream",
     "text": [
      "4\n",
      "13\n"
     ]
    }
   ],
   "source": [
    "## String method find(substring)\n",
    "\n",
    "#assigning a string to variable 'var'\n",
    "var = \"sowkya kammampati\"\n",
    "\n",
    "# Returns lowest index of the substring\n",
    "print(var.find('ya'))\n",
    "\n",
    "print(var.find('p'))\n",
    "\n"
   ]
  },
  {
   "cell_type": "code",
   "execution_count": 32,
   "id": "76d266b1",
   "metadata": {},
   "outputs": [
    {
     "name": "stdout",
     "output_type": "stream",
     "text": [
      "sowkya bindu\n"
     ]
    }
   ],
   "source": [
    "#Assinging string in var1\n",
    "var1 = \"sowkya kammampati\"\n",
    "#replacing the substring with new one\n",
    "print(var1.replace(\"kammampati\", \"bindu\")) \n",
    "#prints sowkya bindu replaces kammampati with bindu"
   ]
  },
  {
   "cell_type": "code",
   "execution_count": 36,
   "id": "65fddaa8",
   "metadata": {},
   "outputs": [
    {
     "name": "stdout",
     "output_type": "stream",
     "text": [
      "sowkya kammampatisowkya kammampatisowkya kammampatisowkya kammampati\n"
     ]
    }
   ],
   "source": [
    "#Repetition of the string\n",
    "\n",
    "#This makes multiple copies of a string and joins them together\n",
    "print(var*4)"
   ]
  },
  {
   "cell_type": "code",
   "execution_count": 42,
   "id": "45d9d16a",
   "metadata": {},
   "outputs": [
    {
     "name": "stdout",
     "output_type": "stream",
     "text": [
      "['Mia cara', ' Amara', ' Ava chen', ' Stella']\n",
      "['4', '7', '12', '19', '27']\n"
     ]
    }
   ],
   "source": [
    "#Splitting of the string\n",
    "# Assinging a new string with some names\n",
    "names = \"Mia cara, Amara, Ava chen, Stella\"\n",
    "\n",
    "#Returns a list containing the words in the string\n",
    "print(names.split(\",\"))\n",
    "\n",
    "# Assigning new string with numbers \n",
    "string = '4/7/12/19/27'\n",
    "\n",
    "#Returns a list containing the numbers in the string\n",
    "list = string.split('/')\n",
    "print(list)"
   ]
  },
  {
   "cell_type": "markdown",
   "id": "3b6ecb87",
   "metadata": {},
   "source": [
    "# regex models"
   ]
  },
  {
   "cell_type": "code",
   "execution_count": null,
   "id": "be0d8d9a",
   "metadata": {},
   "outputs": [],
   "source": [
    "## regex 1\n",
    "# Import the regex module\n",
    "import regex as re\n",
    "\n",
    "# Define the tokenize function\n",
    "def tokenize(text):\n",
    "    # Use regular expressions to find all occurrences of the pattern '..other'\n",
    "    return re.findall(r'..other', text)\n",
    "\n",
    "# Call the tokenize function with the sample text\n",
    "x = tokenize(\"another mother at other pat lat ant\")\n",
    "print(x)"
   ]
  },
  {
   "cell_type": "code",
   "execution_count": 71,
   "id": "977bc079",
   "metadata": {},
   "outputs": [
    {
     "name": "stdout",
     "output_type": "stream",
     "text": [
      "None\n"
     ]
    }
   ],
   "source": [
    "## regex 2\n",
    "import regex as re\n",
    "\n",
    "# Define the tokenize function\n",
    "def tokenize(text,pattern):\n",
    "    # Use re.match() to find the first occurrence of the pattern at the beginning of the text\n",
    "\n",
    "    match = re.match(fr'^{pattern}', text, flags=re.IGNORECASE)\n",
    "\n",
    "# Call the tokenize function with the sample text and pattern\n",
    "text = \"another mother at other pat lat ant\"\n",
    "pattern = \"other\"\n",
    "\n",
    "# Call the find_pat function and store the result in the match result variable\n",
    "match_result = tokenize(text, pattern)\n",
    "print(match_result)\n",
    "\n"
   ]
  },
  {
   "cell_type": "code",
   "execution_count": 72,
   "id": "063f242b",
   "metadata": {},
   "outputs": [
    {
     "name": "stdout",
     "output_type": "stream",
     "text": [
      "['mat']\n"
     ]
    }
   ],
   "source": [
    "## regex 3\n",
    "import regex as re\n",
    "\n",
    "def tokenize(text):\n",
    "    #Use re.findall() to find all occurrences of the pattern 'mat$' in the text\n",
    "    # Find 'mat$' pattern, case-insensitive\n",
    "    return re.findall(r'mat$', text, flags=re.IGNORECASE)\n",
    "\n",
    "# Define the sample text\n",
    "x = tokenize(\"There is a mat\")\n",
    "print(x)  # Output: ['mat']\n",
    "\n"
   ]
  },
  {
   "cell_type": "code",
   "execution_count": 62,
   "id": "fd399a9f",
   "metadata": {},
   "outputs": [
    {
     "name": "stdout",
     "output_type": "stream",
     "text": [
      "[]\n"
     ]
    }
   ],
   "source": [
    "## regex 4\n",
    "import regex as re\n",
    "\n",
    "def tokenize(text):\n",
    "     # Use re.findall() to find all occurrences of the pattern '^at' in the text\n",
    "     # The re.MULTILINE flag enables multiline matching\n",
    "     # Find '^at' pattern, multiline and case-insensitive\n",
    "    return re.findall(r'^at', text, flags=re.MULTILINE | re.IGNORECASE)\n",
    "\n",
    "# Define the sample text\n",
    "text = \"another mother at other pat lat ant\"\n",
    "\n",
    "y = tokenize(text)\n",
    "print(y)"
   ]
  },
  {
   "cell_type": "code",
   "execution_count": 67,
   "id": "8f3b8c25",
   "metadata": {},
   "outputs": [
    {
     "name": "stdout",
     "output_type": "stream",
     "text": [
      "['mother']\n"
     ]
    }
   ],
   "source": [
    "## regex 5\n",
    "import regex as re\n",
    "\n",
    "def find_pat(text):\n",
    "    # Use the re.findall() function to find all occurrences of the word 'mother' in the given text\n",
    "    # The \\b in the regular expression ensures that we only match the word 'mother' as a standalone word, and not as part of a larger word\n",
    "    return re.findall(r'\\bmother\\b', text)\n",
    "\n",
    "# Define the sample text    \n",
    "text = \"another mother at other pat lat ant\"\n",
    "\n",
    "# Call the find_pat() function with the given text and store the result\n",
    "result = find_pat(text)\n",
    "print(result)"
   ]
  },
  {
   "cell_type": "code",
   "execution_count": 70,
   "id": "827f65f8",
   "metadata": {},
   "outputs": [
    {
     "name": "stdout",
     "output_type": "stream",
     "text": [
      "['ant']\n"
     ]
    }
   ],
   "source": [
    "#regex 6\n",
    "import regex as re\n",
    "\n",
    "def find_pat(text):\n",
    "    # Use re.findall() to find all words that are exactly 3 characters long and are at the end of the text\n",
    "    # The pattern '\\b\\w{3}$\\b' matches:\n",
    "    return re.findall(r'\\b\\w{3}$\\b', text)\n",
    "    \n",
    "# Define the sample text\n",
    "text = \"another mother at other pat lat ant\"\n",
    "\n",
    "# Call the find_pat function and store the result in the result variable\n",
    "result = find_pat(text)\n",
    "print(result)\n"
   ]
  },
  {
   "cell_type": "code",
   "execution_count": null,
   "id": "2c6aec31",
   "metadata": {},
   "outputs": [],
   "source": []
  }
 ],
 "metadata": {
  "kernelspec": {
   "display_name": "Python 3 (ipykernel)",
   "language": "python",
   "name": "python3"
  },
  "language_info": {
   "codemirror_mode": {
    "name": "ipython",
    "version": 3
   },
   "file_extension": ".py",
   "mimetype": "text/x-python",
   "name": "python",
   "nbconvert_exporter": "python",
   "pygments_lexer": "ipython3",
   "version": "3.10.9"
  }
 },
 "nbformat": 4,
 "nbformat_minor": 5
}
