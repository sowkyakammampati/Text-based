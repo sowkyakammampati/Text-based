{
 "cells": [
  {
   "cell_type": "markdown",
   "id": "be50d2e9",
   "metadata": {},
   "source": [
    "# String operation"
   ]
  },
  {
   "cell_type": "code",
   "execution_count": 1,
   "id": "fb0957c8",
   "metadata": {},
   "outputs": [
    {
     "name": "stdout",
     "output_type": "stream",
     "text": [
      "17\n"
     ]
    }
   ],
   "source": [
    "#assigning a string\n",
    "a = \"sowkya kammampati\"\n",
    "#printing lenght of string\n",
    "print(len(a))"
   ]
  },
  {
   "cell_type": "code",
   "execution_count": 2,
   "id": "95c7e78e",
   "metadata": {},
   "outputs": [
    {
     "name": "stdout",
     "output_type": "stream",
     "text": [
      "Sowkyakammampati\n"
     ]
    }
   ],
   "source": [
    "#Assigning new string to variable 'a' and 'b'\n",
    "a= \"Sowkya\"\n",
    "b= \"kammampati\"\n",
    "# String concatenation\n",
    "c= a+\"\"+b\n",
    "print(c)"
   ]
  },
  {
   "cell_type": "code",
   "execution_count": 3,
   "id": "9e86e150",
   "metadata": {},
   "outputs": [
    {
     "name": "stdout",
     "output_type": "stream",
     "text": [
      "e\n"
     ]
    }
   ],
   "source": [
    "#Accessing individual letters in a string\n",
    "a = \"Hello Miacara\"\n",
    "#Prints e \n",
    "print(a[1])"
   ]
  },
  {
   "cell_type": "code",
   "execution_count": 4,
   "id": "a275b1c4",
   "metadata": {},
   "outputs": [
    {
     "name": "stdout",
     "output_type": "stream",
     "text": [
      "Hello \n"
     ]
    }
   ],
   "source": [
    "#Prints starting to range 6\n",
    "print(a[:6])"
   ]
  },
  {
   "cell_type": "code",
   "execution_count": 5,
   "id": "6943ecab",
   "metadata": {},
   "outputs": [
    {
     "name": "stdout",
     "output_type": "stream",
     "text": [
      "HELLO MIACARA\n"
     ]
    }
   ],
   "source": [
    "#Print all the string in upper\n",
    "print(a.upper())"
   ]
  },
  {
   "cell_type": "code",
   "execution_count": 6,
   "id": "85448f5f",
   "metadata": {},
   "outputs": [
    {
     "name": "stdout",
     "output_type": "stream",
     "text": [
      "hello miacara\n"
     ]
    }
   ],
   "source": [
    "#Print all the string in lower\n",
    "print(a.lower())"
   ]
  },
  {
   "cell_type": "code",
   "execution_count": 7,
   "id": "3b756a33",
   "metadata": {},
   "outputs": [
    {
     "name": "stdout",
     "output_type": "stream",
     "text": [
      "Hello cara\n"
     ]
    }
   ],
   "source": [
    "#Replace the substring with new\n",
    "print(a.replace(\"Mia\",\"\"))"
   ]
  },
  {
   "cell_type": "code",
   "execution_count": 11,
   "id": "f7d8101b",
   "metadata": {},
   "outputs": [
    {
     "name": "stdout",
     "output_type": "stream",
     "text": [
      "Hello Sunshine\n"
     ]
    }
   ],
   "source": [
    "#Assigning a string to str\n",
    "str = \"   Hello Sunshine\"\n",
    "#Returns a copy of the string with all leading whitespace characters removed\n",
    "print(str.lstrip())"
   ]
  },
  {
   "cell_type": "code",
   "execution_count": 12,
   "id": "1045f594",
   "metadata": {},
   "outputs": [
    {
     "data": {
      "text/plain": [
       "' hello us'"
      ]
     },
     "execution_count": 12,
     "metadata": {},
     "output_type": "execute_result"
    }
   ],
   "source": [
    "#Return a copy of the string without '/'\n",
    "a=\"//// hello us\"\n",
    "a.lstrip('/')"
   ]
  },
  {
   "cell_type": "code",
   "execution_count": 14,
   "id": "a7d8ab98",
   "metadata": {},
   "outputs": [
    {
     "data": {
      "text/plain": [
       "True"
      ]
     },
     "execution_count": 14,
     "metadata": {},
     "output_type": "execute_result"
    }
   ],
   "source": [
    "#Assigning new string\n",
    "a= \"sacred heart\"\n",
    "#checks if the string ends with substring\n",
    "a.endswith(\"heart\")"
   ]
  },
  {
   "cell_type": "code",
   "execution_count": 15,
   "id": "5a0b0ac1",
   "metadata": {},
   "outputs": [
    {
     "data": {
      "text/plain": [
       "False"
      ]
     },
     "execution_count": 15,
     "metadata": {},
     "output_type": "execute_result"
    }
   ],
   "source": [
    "#checks if the string starts with substring\n",
    "a.startswith(\"welcome\")"
   ]
  },
  {
   "cell_type": "code",
   "execution_count": 16,
   "id": "eb8b43fb",
   "metadata": {},
   "outputs": [
    {
     "data": {
      "text/plain": [
       "7"
      ]
     },
     "execution_count": 16,
     "metadata": {},
     "output_type": "execute_result"
    }
   ],
   "source": [
    "#searches for substring within the string\n",
    "a.find(\"heart\")"
   ]
  },
  {
   "cell_type": "code",
   "execution_count": 17,
   "id": "99165942",
   "metadata": {},
   "outputs": [
    {
     "data": {
      "text/plain": [
       "['laughing', 'is', 'the', 'best', 'medicine']"
      ]
     },
     "execution_count": 17,
     "metadata": {},
     "output_type": "execute_result"
    }
   ],
   "source": [
    "#Spliting the string\n",
    "a=\"laughing is the best medicine\"\n",
    "a.split()"
   ]
  },
  {
   "cell_type": "code",
   "execution_count": null,
   "id": "a045d5f1",
   "metadata": {},
   "outputs": [],
   "source": []
  }
 ],
 "metadata": {
  "kernelspec": {
   "display_name": "Python 3 (ipykernel)",
   "language": "python",
   "name": "python3"
  },
  "language_info": {
   "codemirror_mode": {
    "name": "ipython",
    "version": 3
   },
   "file_extension": ".py",
   "mimetype": "text/x-python",
   "name": "python",
   "nbconvert_exporter": "python",
   "pygments_lexer": "ipython3",
   "version": "3.10.9"
  }
 },
 "nbformat": 4,
 "nbformat_minor": 5
}
