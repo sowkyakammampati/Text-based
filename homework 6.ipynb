{
 "cells": [
  {
   "cell_type": "markdown",
   "id": "91208d50-721e-451b-bb7c-dd2a6db9fe20",
   "metadata": {},
   "source": [
    "## GERMAN TEXT "
   ]
  },
  {
   "cell_type": "markdown",
   "id": "55843004-dd9f-4e1f-8893-ec65f3c08248",
   "metadata": {},
   "source": [
    "## Import needed modules"
   ]
  },
  {
   "cell_type": "code",
   "execution_count": 2,
   "id": "832276c8-bcd2-4245-92eb-57ddfa1368c3",
   "metadata": {},
   "outputs": [],
   "source": [
    "from nltk.corpus import stopwords #you can remove stop words for speed\n",
    "from nltk.cluster.util import cosine_distance\n",
    "import numpy as np\n",
    "import networkx as nx"
   ]
  },
  {
   "cell_type": "markdown",
   "id": "c19cdca6-e46e-478b-b985-f29acf6d8f2a",
   "metadata": {},
   "source": [
    "## Opening file and split into sentences"
   ]
  },
  {
   "cell_type": "code",
   "execution_count": 3,
   "id": "69164679-e663-4e4d-a5f8-707c586275dd",
   "metadata": {},
   "outputs": [
    {
     "name": "stdout",
     "output_type": "stream",
     "text": [
      "Das Buch liegt auf dem Tisch\n",
      "Der alte Mann geht langsam durch den Park\n",
      "Die Katze sitzt auf dem Fensterbrett und schaut nach draußen\n",
      "Es regnet stark draußen, und die Straßen sind nass\n",
      "In der Ferne hört man das Rauschen des Flusses.\n"
     ]
    }
   ],
   "source": [
    "file = open(\"C:\\\\Users\\\\sowky\\\\Downloads\\\\german text.txt\", \"r\")\n",
    "#This file contains one paragraph of multiple sentences\n",
    "filedata = file.readlines()\n",
    "article = filedata[0].split(\". \") #Just do the first paragraph\n",
    "sentences = []\n",
    "for sentence in article:\n",
    "    print(sentence)\n",
    "    sentences.append(sentence.replace(\"[^a-zA-Z]\", \" \").split(\" \"))"
   ]
  },
  {
   "cell_type": "code",
   "execution_count": 4,
   "id": "f6ecceb4-2924-474d-b521-8d42ed3544d6",
   "metadata": {},
   "outputs": [
    {
     "name": "stdout",
     "output_type": "stream",
     "text": [
      "Sentences are  [['Das', 'Buch', 'liegt', 'auf', 'dem', 'Tisch'], ['Der', 'alte', 'Mann', 'geht', 'langsam', 'durch', 'den', 'Park'], ['Die', 'Katze', 'sitzt', 'auf', 'dem', 'Fensterbrett', 'und', 'schaut', 'nach', 'draußen'], ['Es', 'regnet', 'stark', 'draußen,', 'und', 'die', 'Straßen', 'sind', 'nass'], ['In', 'der', 'Ferne', 'hört', 'man', 'das', 'Rauschen', 'des', 'Flusses.']]\n"
     ]
    }
   ],
   "source": [
    "print(\"Sentences are \", sentences)"
   ]
  },
  {
   "cell_type": "markdown",
   "id": "10b0c668-db16-43f7-aaeb-f29b1ed018c6",
   "metadata": {},
   "source": [
    "## Function to calculate similarity"
   ]
  },
  {
   "cell_type": "code",
   "execution_count": 5,
   "id": "3d8d0db1-fb58-4aa8-af2f-087c75340d9e",
   "metadata": {},
   "outputs": [],
   "source": [
    "#counting the number of common words\n",
    "def sentence_similarity(sent1, sent2 ):\n",
    "    sent1 = [w.lower() for w in sent1]\n",
    "    sent2 = [w.lower() for w in sent2]\n",
    "    all_words = list(set(sent1 + sent2))\n",
    "    vector1 = [0] * len(all_words)\n",
    "    vector2 = [0] * len(all_words)\n",
    "    # build the vector for the first sentence\n",
    "    for w in sent1:\n",
    "        vector1[all_words.index(w)] += 1\n",
    "    # build the vector for the second sentence\n",
    "    for w in sent2:\n",
    "        vector2[all_words.index(w)] += 1\n",
    "    return 1 - cosine_distance(vector1, vector2)"
   ]
  },
  {
   "cell_type": "markdown",
   "id": "458e8b29-890c-4234-9c0f-e597fcec55f8",
   "metadata": {},
   "source": [
    "## Create the similarity matrix (slide 17)"
   ]
  },
  {
   "cell_type": "code",
   "execution_count": 6,
   "id": "5a750c2d-7bf1-4336-ae9b-0c033f79c7cc",
   "metadata": {},
   "outputs": [
    {
     "name": "stdout",
     "output_type": "stream",
     "text": [
      "Smilarity matrix \n",
      " [[0.         0.         0.25819889 0.         0.13608276]\n",
      " [0.         0.         0.         0.         0.11785113]\n",
      " [0.25819889 0.         0.         0.21081851 0.        ]\n",
      " [0.         0.         0.21081851 0.         0.        ]\n",
      " [0.13608276 0.11785113 0.         0.         0.        ]]\n"
     ]
    }
   ],
   "source": [
    "similarity_matrix = np.zeros((len(sentences), len(sentences)))\n",
    "for idx1 in range(len(sentences)):\n",
    "    for idx2 in range(len(sentences)):\n",
    "        if idx1 == idx2: #ignore if both are same sentences\n",
    "         continue\n",
    "        similarity_matrix[idx1][idx2] = sentence_similarity(sentences[idx1],\n",
    "sentences[idx2])\n",
    "print(\"Smilarity matrix \\n\", similarity_matrix)"
   ]
  },
  {
   "cell_type": "markdown",
   "id": "c258cb48-8642-46e6-aa90-8c287bad3a3b",
   "metadata": {},
   "source": [
    "## Get the pagerank scores"
   ]
  },
  {
   "cell_type": "code",
   "execution_count": 7,
   "id": "3d151431-0d66-4a43-ada8-d1a11b7b9da8",
   "metadata": {},
   "outputs": [
    {
     "name": "stdout",
     "output_type": "stream",
     "text": [
      "scores {0: 0.257723537554717, 1: 0.10781184801501686, 2: 0.2946431369514488, 3: 0.14257377595942577, 4: 0.19724770151939175}\n"
     ]
    }
   ],
   "source": [
    "# Step 3 - Rank sentences in similarity martix\n",
    "sentence_similarity_graph = nx.from_numpy_array(similarity_matrix)\n",
    "scores = nx.pagerank(sentence_similarity_graph)\n",
    "print(\"scores\", scores)"
   ]
  },
  {
   "cell_type": "code",
   "execution_count": 8,
   "id": "e6d15b1c-0202-4a9e-b890-ebc1275b02c9",
   "metadata": {},
   "outputs": [
    {
     "name": "stdout",
     "output_type": "stream",
     "text": [
      "Indexes of top ranked_sentence order are \n",
      "\n",
      " [(0.2946431369514488, ['Die', 'Katze', 'sitzt', 'auf', 'dem', 'Fensterbrett', 'und', 'schaut', 'nach', 'draußen']), (0.257723537554717, ['Das', 'Buch', 'liegt', 'auf', 'dem', 'Tisch']), (0.19724770151939175, ['In', 'der', 'Ferne', 'hört', 'man', 'das', 'Rauschen', 'des', 'Flusses.']), (0.14257377595942577, ['Es', 'regnet', 'stark', 'draußen,', 'und', 'die', 'Straßen', 'sind', 'nass']), (0.10781184801501686, ['Der', 'alte', 'Mann', 'geht', 'langsam', 'durch', 'den', 'Park'])]\n"
     ]
    }
   ],
   "source": [
    "#Sort sentences by pagerank\n",
    "# Step 4 - Sort the rank and pick top sentences\n",
    "ranked_sentence = sorted(((scores[i],s) for i,s in\n",
    "enumerate(sentences)), reverse=True)\n",
    "print(\"Indexes of top ranked_sentence order are \\n\\n\",\n",
    "ranked_sentence)"
   ]
  },
  {
   "cell_type": "markdown",
   "id": "2c3b6c57-f265-4987-a977-69a5ac2be463",
   "metadata": {},
   "source": [
    "## Pick the top “n” sentences"
   ]
  },
  {
   "cell_type": "code",
   "execution_count": 10,
   "id": "0e51aa35-6747-4dc7-aa79-86234b99ad02",
   "metadata": {},
   "outputs": [
    {
     "name": "stdin",
     "output_type": "stream",
     "text": [
      "How many sentences do you want in the summary?  3\n"
     ]
    }
   ],
   "source": [
    "#Step 5 - How many sentences to pick\n",
    "n = int(input(\"How many sentences do you want in the summary? \"))\n",
    "#n=2\n",
    "summarize_text = []\n",
    "for i in range(n):\n",
    "    summarize_text.append(\" \".join(ranked_sentence[i][1]))"
   ]
  },
  {
   "cell_type": "markdown",
   "id": "6ef6f338-d6cc-4974-b893-bdeb64320687",
   "metadata": {},
   "source": [
    "## Finish off by printing summary"
   ]
  },
  {
   "cell_type": "code",
   "execution_count": 11,
   "id": "7d5001ad-04e3-4097-946b-4020e47056d1",
   "metadata": {},
   "outputs": [
    {
     "name": "stdout",
     "output_type": "stream",
     "text": [
      "Summarize Text: \n",
      " Die Katze sitzt auf dem Fensterbrett und schaut nach draußen. Das Buch liegt auf dem Tisch. In der Ferne hört man das Rauschen des Flusses.\n"
     ]
    }
   ],
   "source": [
    "# Step 6 - Offcourse, output the summarize text\n",
    "print(\"Summarize Text: \\n\", \". \".join(summarize_text))"
   ]
  },
  {
   "cell_type": "markdown",
   "id": "248d993f-36ac-4b8d-8656-42ab09df5c91",
   "metadata": {},
   "source": [
    "## KOREAN TEXT "
   ]
  },
  {
   "cell_type": "markdown",
   "id": "4755adf1-6fab-4eed-a303-6d8fb8128a2d",
   "metadata": {},
   "source": [
    "## Import needed modules\n"
   ]
  },
  {
   "cell_type": "code",
   "execution_count": 13,
   "id": "d62b808f-3c64-467b-bb22-662bc6c128a8",
   "metadata": {},
   "outputs": [],
   "source": [
    "from nltk.corpus import stopwords #you can remove stop words for speed\n",
    "from nltk.cluster.util import cosine_distance\n",
    "import numpy as np\n",
    "import networkx as nx"
   ]
  },
  {
   "cell_type": "markdown",
   "id": "9c4d3c60-2ab0-4a7a-8e52-8d2dc2f9df20",
   "metadata": {},
   "source": [
    "## Opening file and split into sentences"
   ]
  },
  {
   "cell_type": "code",
   "execution_count": 28,
   "id": "17f0b15f-b561-437e-9f86-f5a2ea0483e1",
   "metadata": {},
   "outputs": [
    {
     "name": "stdout",
     "output_type": "stream",
     "text": [
      "안녕하세요\n",
      "반갑습니다\n",
      "오늘은 날씨가 좋네요\n",
      "학교에 가는 길이 멀어요\n",
      "저는 커피를 좋아해요\n",
      "배고파서 밥을 먹고 싶어요\n",
      "책을 읽는 것이 취미입니다\n",
      "운동을 해서 몸이 좋아졌어요\n",
      "친구들과 함께 시간을 보내는 게 좋아요\n",
      "가을에 단풍이 아름답습니다\n",
      "여름에는 바다로 여행을 가고 싶어요\n",
      "겨울에 눈이 내리면 눈사람을 만들어요\n",
      "사랑은 따뜻한 감정입니다\n",
      "일을 열심히 하면 좋은 결과가 있을 거예요\n",
      "음악을 듣는 것이 마음을 편안하게 해줍니다\n",
      "저는 한국 음식을 좋아합니다\n",
      "여행을 하면 새로운 경험을 할 수 있어요\n",
      "화이팅! 무엇이든 해낼 수 있어요.\n"
     ]
    }
   ],
   "source": [
    "file = open(\"C:\\\\Users\\\\sowky\\\\Downloads\\\\korean text.txt\", \"r\", encoding=\"utf-8\")\n",
    "filedata = file.read()\n",
    "sentences = filedata.split(\". \")  # Split by periods to separate sentences\n",
    "article = filedata[0].split(\". \") #Just do the first paragraph\n",
    "# Print and append each sentence to the list\n",
    "for sentence in sentences:\n",
    "    print(sentence)\n"
   ]
  },
  {
   "cell_type": "code",
   "execution_count": 20,
   "id": "eb3871b9-7236-4c2b-8edb-9f2076c89dd3",
   "metadata": {},
   "outputs": [
    {
     "name": "stdout",
     "output_type": "stream",
     "text": [
      "Sentences are  ['안녕하세요', '반갑습니다', '오늘은 날씨가 좋네요', '학교에 가는 길이 멀어요', '저는 커피를 좋아해요', '배고파서 밥을 먹고 싶어요', '책을 읽는 것이 취미입니다', '운동을 해서 몸이 좋아졌어요', '친구들과 함께 시간을 보내는 게 좋아요', '가을에 단풍이 아름답습니다', '여름에는 바다로 여행을 가고 싶어요', '겨울에 눈이 내리면 눈사람을 만들어요', '사랑은 따뜻한 감정입니다', '일을 열심히 하면 좋은 결과가 있을 거예요', '음악을 듣는 것이 마음을 편안하게 해줍니다', '저는 한국 음식을 좋아합니다', '여행을 하면 새로운 경험을 할 수 있어요', '화이팅! 무엇이든 해낼 수 있어요.']\n"
     ]
    }
   ],
   "source": [
    "print(\"Sentences are \", sentences)"
   ]
  },
  {
   "cell_type": "markdown",
   "id": "15287f4b-e1eb-430e-a94c-0dd695f3aaa2",
   "metadata": {},
   "source": [
    "## Function to calculate similarity"
   ]
  },
  {
   "cell_type": "code",
   "execution_count": 21,
   "id": "483ac816-a33c-4a88-9c5e-16223136be12",
   "metadata": {},
   "outputs": [],
   "source": [
    "#counting the number of common words\n",
    "def sentence_similarity(sent1, sent2 ):\n",
    "    sent1 = [w.lower() for w in sent1]\n",
    "    sent2 = [w.lower() for w in sent2]\n",
    "    all_words = list(set(sent1 + sent2))\n",
    "    vector1 = [0] * len(all_words)\n",
    "    vector2 = [0] * len(all_words)\n",
    "    # build the vector for the first sentence\n",
    "    for w in sent1:\n",
    "        vector1[all_words.index(w)] += 1\n",
    "    # build the vector for the second sentence\n",
    "    for w in sent2:\n",
    "        vector2[all_words.index(w)] += 1\n",
    "    return 1 - cosine_distance(vector1, vector2)"
   ]
  },
  {
   "cell_type": "markdown",
   "id": "41da1938-07c3-4542-8be1-b6c120dead53",
   "metadata": {},
   "source": [
    "## Create the similarity matrix (slide 17)¶"
   ]
  },
  {
   "cell_type": "code",
   "execution_count": 22,
   "id": "31fed463-e21b-4ff3-ada6-3c7dd2325a2c",
   "metadata": {},
   "outputs": [
    {
     "name": "stdout",
     "output_type": "stream",
     "text": [
      "Smilarity matrix \n",
      " [[0.         0.         0.12403473 0.10259784 0.12403473 0.09534626\n",
      "  0.         0.09759001 0.06984303 0.         0.07784989 0.0766965\n",
      "  0.         0.12060454 0.13046561 0.         0.12171612 0.07784989]\n",
      " [0.         0.         0.         0.         0.         0.\n",
      "  0.2        0.         0.         0.3354102  0.07784989 0.\n",
      "  0.23094011 0.         0.13046561 0.19518001 0.         0.        ]\n",
      " [0.12403473 0.         0.         0.50902781 0.46153846 0.41391868\n",
      "  0.3721042  0.48418203 0.5197777  0.34668762 0.48280455 0.42808634\n",
      "  0.35805744 0.59836607 0.4045567  0.42365927 0.49065338 0.43452409]\n",
      " [0.10259784 0.         0.50902781 0.         0.50902781 0.53802759\n",
      "  0.56428809 0.60075141 0.60908821 0.5161854  0.6789146  0.62951158\n",
      "  0.35540933 0.61868822 0.56888331 0.50062617 0.62439054 0.63897845]\n",
      " [0.12403473 0.         0.46153846 0.50902781 0.         0.41391868\n",
      "  0.43412157 0.60522753 0.60640731 0.34668762 0.48280455 0.42808634\n",
      "  0.28644595 0.52357031 0.48546804 0.60522753 0.49065338 0.48280455]\n",
      " [0.09534626 0.         0.41391868 0.53802759 0.41391868 0.\n",
      "  0.47673129 0.60481474 0.56603808 0.37310125 0.66804266 0.54845432\n",
      "  0.33028913 0.60370755 0.52867485 0.46524211 0.63828474 0.51958873]\n",
      " [0.         0.2        0.3721042  0.56428809 0.43412157 0.47673129\n",
      "  0.         0.53674504 0.59366575 0.55901699 0.58387421 0.53687549\n",
      "  0.51961524 0.60302269 0.71756088 0.63433505 0.60858062 0.54494926]\n",
      " [0.09759001 0.         0.48418203 0.60075141 0.60522753 0.60481474\n",
      "  0.53674504 0.         0.64751827 0.49099025 0.56980288 0.59878495\n",
      "  0.3380617  0.64733887 0.60477666 0.57142857 0.68300095 0.6457766 ]\n",
      " [0.06984303 0.         0.5197777  0.60908821 0.60640731 0.56603808\n",
      "  0.59366575 0.64751827 0.         0.46852129 0.62528634 0.6428059\n",
      "  0.40323892 0.7370463  0.66062825 0.64751827 0.70133438 0.57091361]\n",
      " [0.         0.3354102  0.34668762 0.5161854  0.34668762 0.37310125\n",
      "  0.55901699 0.49099025 0.46852129 0.         0.56575238 0.47162111\n",
      "  0.38729833 0.5056499  0.54699372 0.54554473 0.47628967 0.43519414]\n",
      " [0.07784989 0.07784989 0.48280455 0.6789146  0.48280455 0.66804266\n",
      "  0.58387421 0.56980288 0.62528634 0.56575238 0.         0.59708143\n",
      "  0.40451992 0.65723354 0.60940406 0.56980288 0.75804699 0.54545455]\n",
      " [0.0766965  0.         0.42808634 0.62951158 0.42808634 0.54845432\n",
      "  0.53687549 0.59878495 0.6428059  0.47162111 0.59708143 0.\n",
      "  0.3985267  0.64749621 0.57535971 0.48651277 0.67680204 0.59708143]\n",
      " [0.         0.23094011 0.35805744 0.35540933 0.28644595 0.33028913\n",
      "  0.51961524 0.3380617  0.40323892 0.38729833 0.40451992 0.3985267\n",
      "  0.         0.45260191 0.45194615 0.50709255 0.42163702 0.35957326]\n",
      " [0.12060454 0.         0.59836607 0.61868822 0.52357031 0.60370755\n",
      "  0.60302269 0.64733887 0.7370463  0.5056499  0.65723354 0.64749621\n",
      "  0.45260191 0.         0.6883951  0.61791438 0.80737343 0.61028828]\n",
      " [0.13046561 0.13046561 0.4045567  0.56888331 0.48546804 0.52867485\n",
      "  0.71756088 0.60477666 0.66062825 0.54699372 0.60940406 0.57535971\n",
      "  0.45194615 0.6883951  0.         0.70026772 0.69473989 0.58401222]\n",
      " [0.         0.19518001 0.42365927 0.50062617 0.60522753 0.46524211\n",
      "  0.63433505 0.57142857 0.64751827 0.54554473 0.56980288 0.48651277\n",
      "  0.50709255 0.61791438 0.70026772 0.         0.59391387 0.45584231]\n",
      " [0.12171612 0.         0.49065338 0.62439054 0.49065338 0.63828474\n",
      "  0.60858062 0.68300095 0.70133438 0.47628967 0.75804699 0.67680204\n",
      "  0.42163702 0.80737343 0.69473989 0.59391387 0.         0.66329112]\n",
      " [0.07784989 0.         0.43452409 0.63897845 0.48280455 0.51958873\n",
      "  0.54494926 0.6457766  0.57091361 0.43519414 0.54545455 0.59708143\n",
      "  0.35957326 0.61028828 0.58401222 0.45584231 0.66329112 0.        ]]\n"
     ]
    }
   ],
   "source": [
    "similarity_matrix = np.zeros((len(sentences), len(sentences)))\n",
    "for idx1 in range(len(sentences)):\n",
    "    for idx2 in range(len(sentences)):\n",
    "        if idx1 == idx2: #ignore if both are same sentences\n",
    "         continue\n",
    "        similarity_matrix[idx1][idx2] = sentence_similarity(sentences[idx1],\n",
    "sentences[idx2])\n",
    "print(\"Smilarity matrix \\n\", similarity_matrix)"
   ]
  },
  {
   "cell_type": "markdown",
   "id": "cfcb5e79-81e5-4555-b7d8-70f310516510",
   "metadata": {},
   "source": [
    "## Get the pagerank scores\n"
   ]
  },
  {
   "cell_type": "code",
   "execution_count": 23,
   "id": "07a0a7be-11f3-4948-9c86-51506c8aa162",
   "metadata": {},
   "outputs": [
    {
     "name": "stdout",
     "output_type": "stream",
     "text": [
      "scores {0: 0.015883654390382813, 1: 0.01576381440435151, 2: 0.051495184457707927, 3: 0.062132092943485234, 4: 0.05418849799194232, 5: 0.05714965413001391, 6: 0.0622101774637092, 7: 0.06311624066649558, 8: 0.06514762299611589, 9: 0.05586524510806801, 10: 0.06485938665397875, 11: 0.06058016701507174, 12: 0.04806597468938474, 13: 0.06771318864915736, 14: 0.06616863876673865, 15: 0.06242211260260011, 16: 0.06774627770331171, 17: 0.059492069367484746}\n"
     ]
    }
   ],
   "source": [
    "# Step 3 - Rank sentences in similarity martix\n",
    "sentence_similarity_graph = nx.from_numpy_array(similarity_matrix)\n",
    "scores = nx.pagerank(sentence_similarity_graph)\n",
    "print(\"scores\", scores)"
   ]
  },
  {
   "cell_type": "code",
   "execution_count": 24,
   "id": "8001fbd9-af29-465f-aa73-ab7f7d3618d1",
   "metadata": {},
   "outputs": [
    {
     "name": "stdout",
     "output_type": "stream",
     "text": [
      "Indexes of top ranked_sentence order are \n",
      "\n",
      " [(0.06774627770331171, '여행을 하면 새로운 경험을 할 수 있어요'), (0.06771318864915736, '일을 열심히 하면 좋은 결과가 있을 거예요'), (0.06616863876673865, '음악을 듣는 것이 마음을 편안하게 해줍니다'), (0.06514762299611589, '친구들과 함께 시간을 보내는 게 좋아요'), (0.06485938665397875, '여름에는 바다로 여행을 가고 싶어요'), (0.06311624066649558, '운동을 해서 몸이 좋아졌어요'), (0.06242211260260011, '저는 한국 음식을 좋아합니다'), (0.0622101774637092, '책을 읽는 것이 취미입니다'), (0.062132092943485234, '학교에 가는 길이 멀어요'), (0.06058016701507174, '겨울에 눈이 내리면 눈사람을 만들어요'), (0.059492069367484746, '화이팅! 무엇이든 해낼 수 있어요.'), (0.05714965413001391, '배고파서 밥을 먹고 싶어요'), (0.05586524510806801, '가을에 단풍이 아름답습니다'), (0.05418849799194232, '저는 커피를 좋아해요'), (0.051495184457707927, '오늘은 날씨가 좋네요'), (0.04806597468938474, '사랑은 따뜻한 감정입니다'), (0.015883654390382813, '안녕하세요'), (0.01576381440435151, '반갑습니다')]\n"
     ]
    }
   ],
   "source": [
    "#Sort sentences by pagerank\n",
    "# Step 4 - Sort the rank and pick top sentences\n",
    "ranked_sentence = sorted(((scores[i],s) for i,s in\n",
    "enumerate(sentences)), reverse=True)\n",
    "print(\"Indexes of top ranked_sentence order are \\n\\n\",\n",
    "ranked_sentence)"
   ]
  },
  {
   "cell_type": "markdown",
   "id": "92283357-1b9c-476a-a968-1559e5c828e7",
   "metadata": {},
   "source": [
    "## Pick the top “n” sentences"
   ]
  },
  {
   "cell_type": "code",
   "execution_count": 25,
   "id": "7bde9368-c8fd-4db9-8be0-8a69f75af7d1",
   "metadata": {},
   "outputs": [
    {
     "name": "stdin",
     "output_type": "stream",
     "text": [
      "How many sentences do you want in the summary?  14\n"
     ]
    }
   ],
   "source": [
    "#Step 5 - How many sentences to pick\n",
    "n = int(input(\"How many sentences do you want in the summary? \"))\n",
    "#n=2\n",
    "summarize_text = []\n",
    "for i in range(n):\n",
    "    summarize_text.append(\" \".join(ranked_sentence[i][1]))"
   ]
  },
  {
   "cell_type": "markdown",
   "id": "4406785e-4850-48b7-8deb-1d0f0c2bde67",
   "metadata": {},
   "source": [
    "## Finish off by printing summary"
   ]
  },
  {
   "cell_type": "code",
   "execution_count": 26,
   "id": "99322abb-a55d-4b88-b7b6-8e11b92bb2e0",
   "metadata": {},
   "outputs": [
    {
     "name": "stdout",
     "output_type": "stream",
     "text": [
      "Summarize Text: \n",
      " 여 행 을   하 면   새 로 운   경 험 을   할   수   있 어 요. 일 을   열 심 히   하 면   좋 은   결 과 가   있 을   거 예 요. 음 악 을   듣 는   것 이   마 음 을   편 안 하 게   해 줍 니 다. 친 구 들 과   함 께   시 간 을   보 내 는   게   좋 아 요. 여 름 에 는   바 다 로   여 행 을   가 고   싶 어 요. 운 동 을   해 서   몸 이   좋 아 졌 어 요. 저 는   한 국   음 식 을   좋 아 합 니 다. 책 을   읽 는   것 이   취 미 입 니 다. 학 교 에   가 는   길 이   멀 어 요. 겨 울 에   눈 이   내 리 면   눈 사 람 을   만 들 어 요. 화 이 팅 !   무 엇 이 든   해 낼   수   있 어 요 .. 배 고 파 서   밥 을   먹 고   싶 어 요. 가 을 에   단 풍 이   아 름 답 습 니 다. 저 는   커 피 를   좋 아 해 요\n"
     ]
    }
   ],
   "source": [
    "# Step 6 - Offcourse, output the summarize text\n",
    "print(\"Summarize Text: \\n\", \". \".join(summarize_text))"
   ]
  },
  {
   "cell_type": "markdown",
   "id": "511a7f28-184e-43a4-9944-9b60380f4e7d",
   "metadata": {},
   "source": [
    "## SWEDISH TEXT "
   ]
  },
  {
   "cell_type": "markdown",
   "id": "ff3b9390-5e44-487d-9180-b16c462d9dbc",
   "metadata": {},
   "source": [
    "## Import needed modules\n"
   ]
  },
  {
   "cell_type": "code",
   "execution_count": 14,
   "id": "913d0b95-a307-44f6-8843-57df895c3a89",
   "metadata": {},
   "outputs": [],
   "source": [
    "from nltk.corpus import stopwords #you can remove stop words for speed\n",
    "from nltk.cluster.util import cosine_distance\n",
    "import numpy as np\n",
    "import networkx as nx"
   ]
  },
  {
   "cell_type": "markdown",
   "id": "83ad066d-0e3f-47d3-af14-1a5e045b4d02",
   "metadata": {},
   "source": [
    "## Opening file and split into sentences\n"
   ]
  },
  {
   "cell_type": "code",
   "execution_count": 30,
   "id": "f3eb4387-3e22-4ccd-9165-456fa4bbdbbf",
   "metadata": {},
   "outputs": [
    {
     "name": "stdout",
     "output_type": "stream",
     "text": [
      "Hej! Jag hoppas att du har en bra dag\n",
      "Solen skiner och fÃ¥glarna sjunger\n",
      "Jag Ã¤lskar att gÃ¥ pÃ¥ promenader i parken\n",
      "Det Ã¤r sÃ¥ vackert nÃ¤r blommorna blommar\n",
      "Jag dricker gÃ¤rna en kopp kaffe pÃ¥ morgonen\n",
      "Sedan gÃ¥r jag till jobbet och mÃ¶ter mina kollegor\n",
      "PÃ¥ lunchrasten Ã¤ter jag en god sallad\n",
      "PÃ¥ kvÃ¤llen lagar jag middag och tittar pÃ¥ TV\n",
      "Ibland trÃ¤ffar jag mina vÃ¤nner och vi gÃ¥r pÃ¥ bio\n",
      "Jag tycker om att resa och utforska nya platser\n",
      "Det Ã¤r sÃ¥ spÃ¤nnande att upptÃ¤cka olika kulturer\n",
      "NÃ¤r jag Ã¤r hemma Ã¤lskar jag att lÃ¤sa bÃ¶cker\n",
      "Det Ã¤r sÃ¥ avkopplande att fÃ¶rlora sig i en bra historia\n",
      "Jag fÃ¶redrar att spendera tid utomhus nÃ¤r vÃ¤dret Ã¤r fint\n",
      "Jag Ã¤lskar att bada i havet pÃ¥ sommaren\n",
      "PÃ¥ vintern njuter jag av att Ã¥ka skidor i fjÃ¤llen\n",
      "Livet Ã¤r fullt av smÃ¥ glÃ¤djeÃ¤mnen att upptÃ¤cka varje dag\n",
      "Jag Ã¤r tacksam fÃ¶r allt det vackra i livet\n",
      "Att vara omgiven av mÃ¤nniskor jag Ã¤lskar Ã¤r det bÃ¤sta jag vet\n",
      "Jag kÃ¤nner mig lyckligt lottad att ha sÃ¥dana fina vÃ¤nner\n",
      "Jag fÃ¶rsÃ¶ker leva varje dag till fullo och uppskatta de smÃ¥ stunderna\n",
      "Tack fÃ¶r att du delar denna stund med mig! Ha en underbar dag!\n"
     ]
    }
   ],
   "source": [
    "file = open(\"C:\\\\Users\\\\sowky\\\\Downloads\\\\swedish text.txt\", \"r\")\n",
    "#This file contains one paragraph of multiple sentences\n",
    "filedata = file.readlines()\n",
    "article = filedata[0].split(\". \") #Just do the first paragraph\n",
    "sentences = []\n",
    "for sentence in article:\n",
    "    print(sentence)\n",
    "    sentences.append(sentence.replace(\"[^a-zA-Z]\", \" \").split(\" \"))"
   ]
  },
  {
   "cell_type": "code",
   "execution_count": 31,
   "id": "e17c0e86-d393-4911-9530-1479738be479",
   "metadata": {},
   "outputs": [
    {
     "name": "stdout",
     "output_type": "stream",
     "text": [
      "Sentences are  [['Hej!', 'Jag', 'hoppas', 'att', 'du', 'har', 'en', 'bra', 'dag'], ['Solen', 'skiner', 'och', 'fÃ¥glarna', 'sjunger'], ['Jag', 'Ã¤lskar', 'att', 'gÃ¥', 'pÃ¥', 'promenader', 'i', 'parken'], ['Det', 'Ã¤r', 'sÃ¥', 'vackert', 'nÃ¤r', 'blommorna', 'blommar'], ['Jag', 'dricker', 'gÃ¤rna', 'en', 'kopp', 'kaffe', 'pÃ¥', 'morgonen'], ['Sedan', 'gÃ¥r', 'jag', 'till', 'jobbet', 'och', 'mÃ¶ter', 'mina', 'kollegor'], ['PÃ¥', 'lunchrasten', 'Ã¤ter', 'jag', 'en', 'god', 'sallad'], ['PÃ¥', 'kvÃ¤llen', 'lagar', 'jag', 'middag', 'och', 'tittar', 'pÃ¥', 'TV'], ['Ibland', 'trÃ¤ffar', 'jag', 'mina', 'vÃ¤nner', 'och', 'vi', 'gÃ¥r', 'pÃ¥', 'bio'], ['Jag', 'tycker', 'om', 'att', 'resa', 'och', 'utforska', 'nya', 'platser'], ['Det', 'Ã¤r', 'sÃ¥', 'spÃ¤nnande', 'att', 'upptÃ¤cka', 'olika', 'kulturer'], ['NÃ¤r', 'jag', 'Ã¤r', 'hemma', 'Ã¤lskar', 'jag', 'att', 'lÃ¤sa', 'bÃ¶cker'], ['Det', 'Ã¤r', 'sÃ¥', 'avkopplande', 'att', 'fÃ¶rlora', 'sig', 'i', 'en', 'bra', 'historia'], ['Jag', 'fÃ¶redrar', 'att', 'spendera', 'tid', 'utomhus', 'nÃ¤r', 'vÃ¤dret', 'Ã¤r', 'fint'], ['Jag', 'Ã¤lskar', 'att', 'bada', 'i', 'havet', 'pÃ¥', 'sommaren'], ['PÃ¥', 'vintern', 'njuter', 'jag', 'av', 'att', 'Ã¥ka', 'skidor', 'i', 'fjÃ¤llen'], ['Livet', 'Ã¤r', 'fullt', 'av', 'smÃ¥', 'glÃ¤djeÃ¤mnen', 'att', 'upptÃ¤cka', 'varje', 'dag'], ['Jag', 'Ã¤r', 'tacksam', 'fÃ¶r', 'allt', 'det', 'vackra', 'i', 'livet'], ['Att', 'vara', 'omgiven', 'av', 'mÃ¤nniskor', 'jag', 'Ã¤lskar', 'Ã¤r', 'det', 'bÃ¤sta', 'jag', 'vet'], ['Jag', 'kÃ¤nner', 'mig', 'lyckligt', 'lottad', 'att', 'ha', 'sÃ¥dana', 'fina', 'vÃ¤nner'], ['Jag', 'fÃ¶rsÃ¶ker', 'leva', 'varje', 'dag', 'till', 'fullo', 'och', 'uppskatta', 'de', 'smÃ¥', 'stunderna'], ['Tack', 'fÃ¶r', 'att', 'du', 'delar', 'denna', 'stund', 'med', 'mig!', 'Ha', 'en', 'underbar', 'dag!']]\n"
     ]
    }
   ],
   "source": [
    "print(\"Sentences are \", sentences)"
   ]
  },
  {
   "cell_type": "markdown",
   "id": "1775eef5-a02d-4255-964f-fd14abce7e5d",
   "metadata": {},
   "source": [
    "## Function to calculate similarity\n"
   ]
  },
  {
   "cell_type": "code",
   "execution_count": 32,
   "id": "385bae63-e2e9-43f7-b290-6b3adb2dc4e6",
   "metadata": {},
   "outputs": [],
   "source": [
    "#counting the number of common words\n",
    "def sentence_similarity(sent1, sent2 ):\n",
    "    sent1 = [w.lower() for w in sent1]\n",
    "    sent2 = [w.lower() for w in sent2]\n",
    "    all_words = list(set(sent1 + sent2))\n",
    "    vector1 = [0] * len(all_words)\n",
    "    vector2 = [0] * len(all_words)\n",
    "    # build the vector for the first sentence\n",
    "    for w in sent1:\n",
    "        vector1[all_words.index(w)] += 1\n",
    "    # build the vector for the second sentence\n",
    "    for w in sent2:\n",
    "        vector2[all_words.index(w)] += 1\n",
    "    return 1 - cosine_distance(vector1, vector2)"
   ]
  },
  {
   "cell_type": "markdown",
   "id": "ffb423b6-7402-4eb2-90db-7753433a934d",
   "metadata": {},
   "source": [
    "## Create the similarity matrix (slide 17)¶\n"
   ]
  },
  {
   "cell_type": "code",
   "execution_count": 33,
   "id": "326f4c81-477e-4ca2-b424-9b897b903468",
   "metadata": {},
   "outputs": [
    {
     "name": "stdout",
     "output_type": "stream",
     "text": [
      "Smilarity matrix \n",
      " [[0.         0.         0.23570226 0.         0.23570226 0.11111111\n",
      "  0.25197632 0.10050378 0.10540926 0.22222222 0.11785113 0.30151134\n",
      "  0.30151134 0.21081851 0.23570226 0.21081851 0.21081851 0.11111111\n",
      "  0.26726124 0.21081851 0.19245009 0.2773501 ]\n",
      " [0.         0.         0.         0.         0.         0.1490712\n",
      "  0.         0.13483997 0.14142136 0.1490712  0.         0.\n",
      "  0.         0.         0.         0.         0.         0.\n",
      "  0.         0.         0.12909944 0.        ]\n",
      " [0.23570226 0.         0.         0.         0.25       0.11785113\n",
      "  0.26726124 0.31980107 0.2236068  0.23570226 0.125      0.42640143\n",
      "  0.21320072 0.2236068  0.625      0.4472136  0.1118034  0.23570226\n",
      "  0.37796447 0.2236068  0.10206207 0.09805807]\n",
      " [0.         0.         0.         0.         0.         0.\n",
      "  0.         0.         0.         0.         0.40089186 0.22792115\n",
      "  0.34188173 0.23904572 0.         0.         0.11952286 0.25197632\n",
      "  0.20203051 0.         0.         0.        ]\n",
      " [0.23570226 0.         0.25       0.         0.         0.11785113\n",
      "  0.40089186 0.31980107 0.2236068  0.11785113 0.         0.21320072\n",
      "  0.10660036 0.1118034  0.25       0.2236068  0.         0.11785113\n",
      "  0.18898224 0.1118034  0.10206207 0.09805807]\n",
      " [0.11111111 0.1490712  0.11785113 0.         0.11785113 0.\n",
      "  0.12598816 0.20100756 0.42163702 0.22222222 0.         0.20100756\n",
      "  0.         0.10540926 0.11785113 0.10540926 0.         0.11111111\n",
      "  0.17817416 0.10540926 0.28867513 0.        ]\n",
      " [0.25197632 0.         0.26726124 0.         0.40089186 0.12598816\n",
      "  0.         0.34188173 0.23904572 0.12598816 0.         0.22792115\n",
      "  0.11396058 0.11952286 0.26726124 0.23904572 0.         0.12598816\n",
      "  0.20203051 0.11952286 0.10910895 0.10482848]\n",
      " [0.10050378 0.13483997 0.31980107 0.         0.31980107 0.20100756\n",
      "  0.34188173 0.         0.38138504 0.20100756 0.         0.18181818\n",
      "  0.         0.09534626 0.31980107 0.28603878 0.         0.10050378\n",
      "  0.16116459 0.09534626 0.17407766 0.        ]\n",
      " [0.10540926 0.14142136 0.2236068  0.         0.2236068  0.42163702\n",
      "  0.23904572 0.38138504 0.         0.21081851 0.         0.19069252\n",
      "  0.         0.1        0.2236068  0.2        0.         0.10540926\n",
      "  0.16903085 0.2        0.18257419 0.        ]\n",
      " [0.22222222 0.1490712  0.23570226 0.         0.11785113 0.22222222\n",
      "  0.12598816 0.20100756 0.21081851 0.         0.11785113 0.30151134\n",
      "  0.10050378 0.21081851 0.23570226 0.21081851 0.10540926 0.11111111\n",
      "  0.26726124 0.21081851 0.19245009 0.09245003]\n",
      " [0.11785113 0.         0.125      0.40089186 0.         0.\n",
      "  0.         0.         0.         0.11785113 0.         0.21320072\n",
      "  0.42640143 0.2236068  0.125      0.1118034  0.3354102  0.23570226\n",
      "  0.28347335 0.1118034  0.         0.09805807]\n",
      " [0.30151134 0.         0.42640143 0.22792115 0.21320072 0.20100756\n",
      "  0.22792115 0.18181818 0.19069252 0.30151134 0.21320072 0.\n",
      "  0.18181818 0.47673129 0.42640143 0.28603878 0.19069252 0.30151134\n",
      "  0.56407607 0.28603878 0.17407766 0.0836242 ]\n",
      " [0.30151134 0.         0.21320072 0.34188173 0.10660036 0.\n",
      "  0.11396058 0.         0.         0.10050378 0.42640143 0.18181818\n",
      "  0.         0.19069252 0.21320072 0.19069252 0.19069252 0.30151134\n",
      "  0.24174689 0.09534626 0.         0.1672484 ]\n",
      " [0.21081851 0.         0.2236068  0.23904572 0.1118034  0.10540926\n",
      "  0.11952286 0.09534626 0.1        0.21081851 0.2236068  0.47673129\n",
      "  0.19069252 0.         0.2236068  0.2        0.2        0.21081851\n",
      "  0.3380617  0.2        0.09128709 0.0877058 ]\n",
      " [0.23570226 0.         0.625      0.         0.25       0.11785113\n",
      "  0.26726124 0.31980107 0.2236068  0.23570226 0.125      0.42640143\n",
      "  0.21320072 0.2236068  0.         0.4472136  0.1118034  0.23570226\n",
      "  0.37796447 0.2236068  0.10206207 0.09805807]\n",
      " [0.21081851 0.         0.4472136  0.         0.2236068  0.10540926\n",
      "  0.23904572 0.28603878 0.2        0.21081851 0.1118034  0.28603878\n",
      "  0.19069252 0.2        0.4472136  0.         0.2        0.21081851\n",
      "  0.3380617  0.2        0.09128709 0.0877058 ]\n",
      " [0.21081851 0.         0.1118034  0.11952286 0.         0.\n",
      "  0.         0.         0.         0.10540926 0.3354102  0.19069252\n",
      "  0.19069252 0.2        0.1118034  0.2        0.         0.21081851\n",
      "  0.25354628 0.1        0.27386128 0.0877058 ]\n",
      " [0.11111111 0.         0.23570226 0.25197632 0.11785113 0.11111111\n",
      "  0.12598816 0.10050378 0.10540926 0.11111111 0.23570226 0.30151134\n",
      "  0.30151134 0.21081851 0.23570226 0.21081851 0.21081851 0.\n",
      "  0.35634832 0.10540926 0.09622504 0.09245003]\n",
      " [0.26726124 0.         0.37796447 0.20203051 0.18898224 0.17817416\n",
      "  0.20203051 0.16116459 0.16903085 0.26726124 0.28347335 0.56407607\n",
      "  0.24174689 0.3380617  0.37796447 0.3380617  0.25354628 0.35634832\n",
      "  0.         0.25354628 0.15430335 0.07412493]\n",
      " [0.21081851 0.         0.2236068  0.         0.1118034  0.10540926\n",
      "  0.11952286 0.09534626 0.2        0.21081851 0.1118034  0.28603878\n",
      "  0.09534626 0.2        0.2236068  0.2        0.1        0.10540926\n",
      "  0.25354628 0.         0.09128709 0.1754116 ]\n",
      " [0.19245009 0.12909944 0.10206207 0.         0.10206207 0.28867513\n",
      "  0.10910895 0.17407766 0.18257419 0.19245009 0.         0.17407766\n",
      "  0.         0.09128709 0.10206207 0.09128709 0.27386128 0.09622504\n",
      "  0.15430335 0.09128709 0.         0.        ]\n",
      " [0.2773501  0.         0.09805807 0.         0.09805807 0.\n",
      "  0.10482848 0.         0.         0.09245003 0.09805807 0.0836242\n",
      "  0.1672484  0.0877058  0.09805807 0.0877058  0.0877058  0.09245003\n",
      "  0.07412493 0.1754116  0.         0.        ]]\n"
     ]
    }
   ],
   "source": [
    "similarity_matrix = np.zeros((len(sentences), len(sentences)))\n",
    "for idx1 in range(len(sentences)):\n",
    "    for idx2 in range(len(sentences)):\n",
    "        if idx1 == idx2: #ignore if both are same sentences\n",
    "         continue\n",
    "        similarity_matrix[idx1][idx2] = sentence_similarity(sentences[idx1],\n",
    "sentences[idx2])\n",
    "print(\"Smilarity matrix \\n\", similarity_matrix)"
   ]
  },
  {
   "cell_type": "markdown",
   "id": "00a1398c-4294-4de4-b747-2b43931b999c",
   "metadata": {},
   "source": [
    "## Get the pagerank scores\n"
   ]
  },
  {
   "cell_type": "code",
   "execution_count": 34,
   "id": "b2832c47-869c-4fbb-999d-b90ef7b0ed4b",
   "metadata": {},
   "outputs": [
    {
     "name": "stdout",
     "output_type": "stream",
     "text": [
      "scores {0: 0.05136709363849329, 1: 0.015105655407931119, 2: 0.06139632020618654, 3: 0.026969234724040985, 4: 0.04274620939019202, 5: 0.03821803919048399, 6: 0.044951914961592496, 7: 0.04616666248865532, 8: 0.045403655491956726, 9: 0.04905210958855436, 10: 0.04041698612036363, 11: 0.06869850204108985, 12: 0.04547566937387921, 13: 0.05063112543546136, 14: 0.06139632020618654, 15: 0.0550341354172794, 16: 0.03761961020691378, 17: 0.04812500008121058, 18: 0.06635011717852282, 19: 0.042067087952555086, 20: 0.03664497013911646, 21: 0.02616358075933443}\n"
     ]
    }
   ],
   "source": [
    "# Step 3 - Rank sentences in similarity martix\n",
    "sentence_similarity_graph = nx.from_numpy_array(similarity_matrix)\n",
    "scores = nx.pagerank(sentence_similarity_graph)\n",
    "print(\"scores\", scores)"
   ]
  },
  {
   "cell_type": "code",
   "execution_count": 35,
   "id": "0f5641d3-0359-4869-ac59-1b490ac62676",
   "metadata": {},
   "outputs": [
    {
     "name": "stdout",
     "output_type": "stream",
     "text": [
      "Indexes of top ranked_sentence order are \n",
      "\n",
      " [(0.06869850204108985, ['NÃ¤r', 'jag', 'Ã¤r', 'hemma', 'Ã¤lskar', 'jag', 'att', 'lÃ¤sa', 'bÃ¶cker']), (0.06635011717852282, ['Att', 'vara', 'omgiven', 'av', 'mÃ¤nniskor', 'jag', 'Ã¤lskar', 'Ã¤r', 'det', 'bÃ¤sta', 'jag', 'vet']), (0.06139632020618654, ['Jag', 'Ã¤lskar', 'att', 'gÃ¥', 'pÃ¥', 'promenader', 'i', 'parken']), (0.06139632020618654, ['Jag', 'Ã¤lskar', 'att', 'bada', 'i', 'havet', 'pÃ¥', 'sommaren']), (0.0550341354172794, ['PÃ¥', 'vintern', 'njuter', 'jag', 'av', 'att', 'Ã¥ka', 'skidor', 'i', 'fjÃ¤llen']), (0.05136709363849329, ['Hej!', 'Jag', 'hoppas', 'att', 'du', 'har', 'en', 'bra', 'dag']), (0.05063112543546136, ['Jag', 'fÃ¶redrar', 'att', 'spendera', 'tid', 'utomhus', 'nÃ¤r', 'vÃ¤dret', 'Ã¤r', 'fint']), (0.04905210958855436, ['Jag', 'tycker', 'om', 'att', 'resa', 'och', 'utforska', 'nya', 'platser']), (0.04812500008121058, ['Jag', 'Ã¤r', 'tacksam', 'fÃ¶r', 'allt', 'det', 'vackra', 'i', 'livet']), (0.04616666248865532, ['PÃ¥', 'kvÃ¤llen', 'lagar', 'jag', 'middag', 'och', 'tittar', 'pÃ¥', 'TV']), (0.04547566937387921, ['Det', 'Ã¤r', 'sÃ¥', 'avkopplande', 'att', 'fÃ¶rlora', 'sig', 'i', 'en', 'bra', 'historia']), (0.045403655491956726, ['Ibland', 'trÃ¤ffar', 'jag', 'mina', 'vÃ¤nner', 'och', 'vi', 'gÃ¥r', 'pÃ¥', 'bio']), (0.044951914961592496, ['PÃ¥', 'lunchrasten', 'Ã¤ter', 'jag', 'en', 'god', 'sallad']), (0.04274620939019202, ['Jag', 'dricker', 'gÃ¤rna', 'en', 'kopp', 'kaffe', 'pÃ¥', 'morgonen']), (0.042067087952555086, ['Jag', 'kÃ¤nner', 'mig', 'lyckligt', 'lottad', 'att', 'ha', 'sÃ¥dana', 'fina', 'vÃ¤nner']), (0.04041698612036363, ['Det', 'Ã¤r', 'sÃ¥', 'spÃ¤nnande', 'att', 'upptÃ¤cka', 'olika', 'kulturer']), (0.03821803919048399, ['Sedan', 'gÃ¥r', 'jag', 'till', 'jobbet', 'och', 'mÃ¶ter', 'mina', 'kollegor']), (0.03761961020691378, ['Livet', 'Ã¤r', 'fullt', 'av', 'smÃ¥', 'glÃ¤djeÃ¤mnen', 'att', 'upptÃ¤cka', 'varje', 'dag']), (0.03664497013911646, ['Jag', 'fÃ¶rsÃ¶ker', 'leva', 'varje', 'dag', 'till', 'fullo', 'och', 'uppskatta', 'de', 'smÃ¥', 'stunderna']), (0.026969234724040985, ['Det', 'Ã¤r', 'sÃ¥', 'vackert', 'nÃ¤r', 'blommorna', 'blommar']), (0.02616358075933443, ['Tack', 'fÃ¶r', 'att', 'du', 'delar', 'denna', 'stund', 'med', 'mig!', 'Ha', 'en', 'underbar', 'dag!']), (0.015105655407931119, ['Solen', 'skiner', 'och', 'fÃ¥glarna', 'sjunger'])]\n"
     ]
    }
   ],
   "source": [
    "#Sort sentences by pagerank\n",
    "# Step 4 - Sort the rank and pick top sentences\n",
    "ranked_sentence = sorted(((scores[i],s) for i,s in\n",
    "enumerate(sentences)), reverse=True)\n",
    "print(\"Indexes of top ranked_sentence order are \\n\\n\",\n",
    "ranked_sentence)\n"
   ]
  },
  {
   "cell_type": "markdown",
   "id": "6b574217-e24f-4ed4-b9c2-e048729baeae",
   "metadata": {},
   "source": [
    "## Pick the top “n” sentences"
   ]
  },
  {
   "cell_type": "code",
   "execution_count": 36,
   "id": "3c52a113-cd30-4d65-ae0c-5330a0d36fa2",
   "metadata": {},
   "outputs": [
    {
     "name": "stdin",
     "output_type": "stream",
     "text": [
      "How many sentences do you want in the summary?  20\n"
     ]
    }
   ],
   "source": [
    "#Step 5 - How many sentences to pick\n",
    "n = int(input(\"How many sentences do you want in the summary? \"))\n",
    "#n=2\n",
    "summarize_text = []\n",
    "for i in range(n):\n",
    "    summarize_text.append(\" \".join(ranked_sentence[i][1]))\n"
   ]
  },
  {
   "cell_type": "markdown",
   "id": "31ed08c6-c94f-40f9-b65d-40fb78c5c697",
   "metadata": {},
   "source": [
    "## Finish off by printing summary"
   ]
  },
  {
   "cell_type": "code",
   "execution_count": 37,
   "id": "dfd7467f-fb9a-4c91-9898-f8280fac0c6b",
   "metadata": {},
   "outputs": [
    {
     "name": "stdout",
     "output_type": "stream",
     "text": [
      "Summarize Text: \n",
      " NÃ¤r jag Ã¤r hemma Ã¤lskar jag att lÃ¤sa bÃ¶cker. Att vara omgiven av mÃ¤nniskor jag Ã¤lskar Ã¤r det bÃ¤sta jag vet. Jag Ã¤lskar att gÃ¥ pÃ¥ promenader i parken. Jag Ã¤lskar att bada i havet pÃ¥ sommaren. PÃ¥ vintern njuter jag av att Ã¥ka skidor i fjÃ¤llen. Hej! Jag hoppas att du har en bra dag. Jag fÃ¶redrar att spendera tid utomhus nÃ¤r vÃ¤dret Ã¤r fint. Jag tycker om att resa och utforska nya platser. Jag Ã¤r tacksam fÃ¶r allt det vackra i livet. PÃ¥ kvÃ¤llen lagar jag middag och tittar pÃ¥ TV. Det Ã¤r sÃ¥ avkopplande att fÃ¶rlora sig i en bra historia. Ibland trÃ¤ffar jag mina vÃ¤nner och vi gÃ¥r pÃ¥ bio. PÃ¥ lunchrasten Ã¤ter jag en god sallad. Jag dricker gÃ¤rna en kopp kaffe pÃ¥ morgonen. Jag kÃ¤nner mig lyckligt lottad att ha sÃ¥dana fina vÃ¤nner. Det Ã¤r sÃ¥ spÃ¤nnande att upptÃ¤cka olika kulturer. Sedan gÃ¥r jag till jobbet och mÃ¶ter mina kollegor. Livet Ã¤r fullt av smÃ¥ glÃ¤djeÃ¤mnen att upptÃ¤cka varje dag. Jag fÃ¶rsÃ¶ker leva varje dag till fullo och uppskatta de smÃ¥ stunderna. Det Ã¤r sÃ¥ vackert nÃ¤r blommorna blommar\n"
     ]
    }
   ],
   "source": [
    "# Step 6 - Offcourse, output the summarize text\n",
    "print(\"Summarize Text: \\n\", \". \".join(summarize_text))"
   ]
  },
  {
   "cell_type": "code",
   "execution_count": null,
   "id": "42b223de-d27a-4cb0-8711-ddda081361d8",
   "metadata": {},
   "outputs": [],
   "source": []
  }
 ],
 "metadata": {
  "kernelspec": {
   "display_name": "Python 3 (ipykernel)",
   "language": "python",
   "name": "python3"
  },
  "language_info": {
   "codemirror_mode": {
    "name": "ipython",
    "version": 3
   },
   "file_extension": ".py",
   "mimetype": "text/x-python",
   "name": "python",
   "nbconvert_exporter": "python",
   "pygments_lexer": "ipython3",
   "version": "3.11.7"
  }
 },
 "nbformat": 4,
 "nbformat_minor": 5
}
